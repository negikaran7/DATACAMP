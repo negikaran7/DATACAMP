{
 "cells": [
  {
   "cell_type": "code",
   "execution_count": 1,
   "metadata": {},
   "outputs": [],
   "source": [
    "url = 'https://fortrabbit.github.io/quotes/'"
   ]
  },
  {
   "cell_type": "code",
   "execution_count": 2,
   "metadata": {},
   "outputs": [
    {
     "data": {
      "text/plain": [
       "requests.models.Response"
      ]
     },
     "execution_count": 2,
     "metadata": {},
     "output_type": "execute_result"
    }
   ],
   "source": [
    "import requests\n",
    "\n",
    "# Make the request and check object type\n",
    "r = requests.get(url)\n",
    "type(r)"
   ]
  },
  {
   "cell_type": "code",
   "execution_count": 3,
   "metadata": {},
   "outputs": [],
   "source": [
    "html = r.text"
   ]
  },
  {
   "cell_type": "code",
   "execution_count": 4,
   "metadata": {},
   "outputs": [],
   "source": [
    "# Import BeautifulSoup from bs4\n",
    "from bs4 import BeautifulSoup\n"
   ]
  },
  {
   "cell_type": "code",
   "execution_count": 5,
   "metadata": {},
   "outputs": [
    {
     "data": {
      "text/plain": [
       "bs4.BeautifulSoup"
      ]
     },
     "execution_count": 5,
     "metadata": {},
     "output_type": "execute_result"
    }
   ],
   "source": [
    "# Create a BeautifulSoup object from the HTML\n",
    "soup = BeautifulSoup(html, \"html5lib\")\n",
    "type(soup)"
   ]
  },
  {
   "cell_type": "code",
   "execution_count": 6,
   "metadata": {},
   "outputs": [
    {
     "data": {
      "text/plain": [
       "<title>Quotes for developers</title>"
      ]
     },
     "execution_count": 6,
     "metadata": {},
     "output_type": "execute_result"
    }
   ],
   "source": [
    "# Get soup title\n",
    "soup.title"
   ]
  },
  {
   "cell_type": "code",
   "execution_count": 7,
   "metadata": {},
   "outputs": [
    {
     "data": {
      "text/plain": [
       "'Quotes for developers'"
      ]
     },
     "execution_count": 7,
     "metadata": {},
     "output_type": "execute_result"
    }
   ],
   "source": [
    "# Get soup title String\n",
    "soup.title.string"
   ]
  },
  {
   "cell_type": "code",
   "execution_count": 33,
   "metadata": {},
   "outputs": [
    {
     "data": {
      "text/plain": [
       "[<p class=\"type-l p-m\">\n",
       "                 Always code as if the guy who ends up maintaining your code will be a violent psychopath who knows where you live.\n",
       "             </p>, <p class=\"type-l p-m\">\n",
       "                 All computers wait at the same speed.\n",
       "             </p>, <p class=\"type-l p-m\">\n",
       "                 A misplaced decimal point will always end up where it will do the greatest damage.\n",
       "             </p>, <p class=\"type-l p-m\">\n",
       "                 A good programmer looks both ways before crossing a one-way street.\n",
       "             </p>, <p class=\"type-l p-m\">\n",
       "                 A computer program does what you tell it to do, not what you want it to do.\n",
       "             </p>, <p class=\"type-l p-m\">\n",
       "                 \"Intel Inside\" is a Government Warning required by Law.\n",
       "             </p>, <p class=\"type-l p-m\">\n",
       "                 Common sense gets a lot of credit that belongs to cold feet.\n",
       "             </p>, <p class=\"type-l p-m\">\n",
       "                 Chuck Norris doesn’t go hunting. Chuck Norris goes killing.\n",
       "             </p>, <p class=\"type-l p-m\">\n",
       "                 Chuck Norris counted to infinity... twice.\n",
       "             </p>, <p class=\"type-l p-m\">\n",
       "                 C is quirky, flawed, and an enormous success.\n",
       "             </p>]"
      ]
     },
     "execution_count": 33,
     "metadata": {},
     "output_type": "execute_result"
    }
   ],
   "source": [
    "# Get hyperlinks from soup\n",
    "soup.findAll('p')[:10]"
   ]
  },
  {
   "cell_type": "code",
   "execution_count": 34,
   "metadata": {},
   "outputs": [],
   "source": [
    "# Get the text out of the soup and print it\n",
    "text = soup.get_text()\n",
    "# print(text)"
   ]
  },
  {
   "cell_type": "code",
   "execution_count": 35,
   "metadata": {},
   "outputs": [
    {
     "data": {
      "text/plain": [
       "['Every']"
      ]
     },
     "execution_count": 35,
     "metadata": {},
     "output_type": "execute_result"
    }
   ],
   "source": [
    "# Import regex package\n",
    "import re\n",
    "\n",
    "# Define sentence\n",
    "sentence = 'Every piece of software written today is likely going to infringe on someone else’s patent.'\n",
    "\n",
    "# Define regex\n",
    "s = 'E\\w+'\n",
    "\n",
    "\n",
    "# Find all words in sentence that match the regex and print them\n",
    "re.findall(s, sentence)"
   ]
  },
  {
   "cell_type": "code",
   "execution_count": 36,
   "metadata": {},
   "outputs": [
    {
     "data": {
      "text/plain": [
       "['Every',\n",
       " 'piece',\n",
       " 'of',\n",
       " 'software',\n",
       " 'written',\n",
       " 'today',\n",
       " 'is',\n",
       " 'likely',\n",
       " 'going',\n",
       " 'to',\n",
       " 'infringe',\n",
       " 'on',\n",
       " 'someone',\n",
       " 'else',\n",
       " 's',\n",
       " 'patent']"
      ]
     },
     "execution_count": 36,
     "metadata": {},
     "output_type": "execute_result"
    }
   ],
   "source": [
    "re.findall('\\w+', sentence)"
   ]
  },
  {
   "cell_type": "code",
   "execution_count": 37,
   "metadata": {},
   "outputs": [
    {
     "data": {
      "text/plain": [
       "['Quotes',\n",
       " 'for',\n",
       " 'developers',\n",
       " '189',\n",
       " 'quotes',\n",
       " 'for',\n",
       " 'developers',\n",
       " 'twittericon',\n",
       " 'position',\n",
       " 'absolute']"
      ]
     },
     "execution_count": 37,
     "metadata": {},
     "output_type": "execute_result"
    }
   ],
   "source": [
    "tokens = re.findall('\\w+', text)\n",
    "tokens[:10]"
   ]
  },
  {
   "cell_type": "code",
   "execution_count": 38,
   "metadata": {},
   "outputs": [
    {
     "data": {
      "text/plain": [
       "['Quotes',\n",
       " 'for',\n",
       " 'developers',\n",
       " '189',\n",
       " 'quotes',\n",
       " 'for',\n",
       " 'developers',\n",
       " 'twittericon',\n",
       " 'position',\n",
       " 'absolute']"
      ]
     },
     "execution_count": 38,
     "metadata": {},
     "output_type": "execute_result"
    }
   ],
   "source": [
    "# Import RegexpTokenizer from nltk.tokenize\n",
    "from nltk.tokenize import RegexpTokenizer\n",
    "\n",
    "# Create tokenizer\n",
    "tokenizer = RegexpTokenizer('\\w+')\n",
    "\n",
    "# Create tokens\n",
    "tokens = tokenizer.tokenize(text)\n",
    "tokens[:10]"
   ]
  },
  {
   "cell_type": "code",
   "execution_count": 25,
   "metadata": {},
   "outputs": [
    {
     "data": {
      "text/plain": [
       "['quotes',\n",
       " 'for',\n",
       " 'developers',\n",
       " '189',\n",
       " 'quotes',\n",
       " 'for',\n",
       " 'developers',\n",
       " 'twittericon',\n",
       " 'position',\n",
       " 'absolute',\n",
       " 'top',\n",
       " '7rem',\n",
       " 'right',\n",
       " '4rem',\n",
       " 'border',\n",
       " 'radius',\n",
       " '100',\n",
       " 'display',\n",
       " 'inline',\n",
       " 'block',\n",
       " 'background',\n",
       " 'size',\n",
       " '80',\n",
       " 'background',\n",
       " 'position',\n",
       " 'center',\n",
       " 'background',\n",
       " 'repeat',\n",
       " 'no',\n",
       " 'repeat',\n",
       " 'width',\n",
       " '22px',\n",
       " 'height',\n",
       " '22px',\n",
       " 'background',\n",
       " 'image',\n",
       " 'url',\n",
       " 'data',\n",
       " 'image',\n",
       " 'png',\n",
       " 'base64',\n",
       " 'ivborw0kggoaaaansuheugaaacaaaaagcayaaabzenr0aaaczuleqvryr92xzxeaqrcfv',\n",
       " 'aaftmzmaymi2acgzwb4clgzbsbcqrcj4wvqheyr6brbeyrwergcbn1yfw97lkwp',\n",
       " 'xpcatkxauqhwa6377uef0qnjnkmevzsgcyiesgnckygnkfyknzxxblyzdtm3hgdsrugddldiczki0x31wlxxxqyrj',\n",
       " 'wjpzxjpnky84fojs9qtjazipowg',\n",
       " 's6zbfos5cg3',\n",
       " '8hohwql8ijpnzsuemai',\n",
       " 'wsooe3lzdfkzuqutdoi54elmatesezcapekc',\n",
       " 'p0432lf',\n",
       " 'ff',\n",
       " '8jveswjo447xmgsderhdgigtifxwqv0kkhxuxpauhy3bzszsavhpciodyizoqxyohqax53ty3zyo1cwdffa2wpjlbglw0qnxc2z3g6htxqcbm1pwmcacvflossv19njagbq9bx8wveeoemn9fjhulr90db52azhvzdg',\n",
       " 'hssmrg857yn430aord9dwrrpqge7weiwfggvdsyhpxtswo3rvqknnquyi7xf7hw',\n",
       " 'u8f4flqegtmr2mirv92cenexlr',\n",
       " '0kdgcee75ilj655uv8tc2jmkgbarid19g1k',\n",
       " 'psgab8ngezab8anc8cp2reu',\n",
       " 'eamwrmkkpqr1xzqwhygywwyaz0ltlc7c4f2qz1eg9qkdympkjq5jdful7fxqsrmfhnzbv',\n",
       " 'y3neoiwmtq2odf7f0cqlav24fxlopzws9fipzym1fhnbss7htdtuup3k',\n",
       " 'asbugedzud1re7acml',\n",
       " 'fzygoyzypgmzn',\n",
       " 'iea0lqgtkvxu9ei',\n",
       " 'tf5jtuz',\n",
       " 'ftmi6vevgqs0c8rj9murnxroiqjkty5x9a5n9f1isw7gaaaabjru5erkjggg',\n",
       " 'twittericon',\n",
       " 'hover',\n",
       " 'background',\n",
       " 'color',\n",
       " 'black',\n",
       " 'box',\n",
       " 'shadow',\n",
       " '0',\n",
       " '0',\n",
       " '0',\n",
       " '1px',\n",
       " 'black',\n",
       " 'always',\n",
       " 'code',\n",
       " 'as',\n",
       " 'if',\n",
       " 'the',\n",
       " 'guy',\n",
       " 'who',\n",
       " 'ends',\n",
       " 'up',\n",
       " 'maintaining',\n",
       " 'your',\n",
       " 'code',\n",
       " 'will',\n",
       " 'be',\n",
       " 'a',\n",
       " 'violent',\n",
       " 'psychopath',\n",
       " 'who',\n",
       " 'knows',\n",
       " 'where',\n",
       " 'you',\n",
       " 'live',\n",
       " 'martin',\n",
       " 'golding',\n",
       " 'all',\n",
       " 'computers']"
      ]
     },
     "execution_count": 25,
     "metadata": {},
     "output_type": "execute_result"
    }
   ],
   "source": [
    "# Initialize new list\n",
    "words = []\n",
    "\n",
    "# Loop through list tokens and make lower case\n",
    "for word in tokens:\n",
    "    words.append(word.lower())\n",
    "\n",
    "# Print several items from list as sanity check\n",
    "\n",
    "words[:100]"
   ]
  },
  {
   "cell_type": "code",
   "execution_count": 26,
   "metadata": {},
   "outputs": [
    {
     "name": "stdout",
     "output_type": "stream",
     "text": [
      "[nltk_data] Downloading package stopwords to\n",
      "[nltk_data]     /home/optimus/nltk_data...\n",
      "[nltk_data]   Package stopwords is already up-to-date!\n"
     ]
    },
    {
     "data": {
      "text/plain": [
       "True"
      ]
     },
     "execution_count": 26,
     "metadata": {},
     "output_type": "execute_result"
    }
   ],
   "source": [
    "import nltk #download stopwords\n",
    "nltk.download('stopwords')\n"
   ]
  },
  {
   "cell_type": "code",
   "execution_count": 27,
   "metadata": {},
   "outputs": [
    {
     "data": {
      "text/plain": [
       "['i',\n",
       " 'me',\n",
       " 'my',\n",
       " 'myself',\n",
       " 'we',\n",
       " 'our',\n",
       " 'ours',\n",
       " 'ourselves',\n",
       " 'you',\n",
       " \"you're\",\n",
       " \"you've\",\n",
       " \"you'll\",\n",
       " \"you'd\",\n",
       " 'your',\n",
       " 'yours',\n",
       " 'yourself',\n",
       " 'yourselves',\n",
       " 'he',\n",
       " 'him',\n",
       " 'his',\n",
       " 'himself',\n",
       " 'she',\n",
       " \"she's\",\n",
       " 'her',\n",
       " 'hers',\n",
       " 'herself',\n",
       " 'it',\n",
       " \"it's\",\n",
       " 'its',\n",
       " 'itself',\n",
       " 'they',\n",
       " 'them',\n",
       " 'their',\n",
       " 'theirs',\n",
       " 'themselves',\n",
       " 'what',\n",
       " 'which',\n",
       " 'who',\n",
       " 'whom',\n",
       " 'this',\n",
       " 'that',\n",
       " \"that'll\",\n",
       " 'these',\n",
       " 'those',\n",
       " 'am',\n",
       " 'is',\n",
       " 'are',\n",
       " 'was',\n",
       " 'were',\n",
       " 'be',\n",
       " 'been',\n",
       " 'being',\n",
       " 'have',\n",
       " 'has',\n",
       " 'had',\n",
       " 'having',\n",
       " 'do',\n",
       " 'does',\n",
       " 'did',\n",
       " 'doing',\n",
       " 'a',\n",
       " 'an',\n",
       " 'the',\n",
       " 'and',\n",
       " 'but',\n",
       " 'if',\n",
       " 'or',\n",
       " 'because',\n",
       " 'as',\n",
       " 'until',\n",
       " 'while',\n",
       " 'of',\n",
       " 'at',\n",
       " 'by',\n",
       " 'for',\n",
       " 'with',\n",
       " 'about',\n",
       " 'against',\n",
       " 'between',\n",
       " 'into',\n",
       " 'through',\n",
       " 'during',\n",
       " 'before',\n",
       " 'after',\n",
       " 'above',\n",
       " 'below',\n",
       " 'to',\n",
       " 'from',\n",
       " 'up',\n",
       " 'down',\n",
       " 'in',\n",
       " 'out',\n",
       " 'on',\n",
       " 'off',\n",
       " 'over',\n",
       " 'under',\n",
       " 'again',\n",
       " 'further',\n",
       " 'then',\n",
       " 'once']"
      ]
     },
     "execution_count": 27,
     "metadata": {},
     "output_type": "execute_result"
    }
   ],
   "source": [
    "# Import nltk\n",
    "import nltk\n",
    "\n",
    "# Get English stopwords and print some of them\n",
    "sw = nltk.corpus.stopwords.words('english')\n",
    "sw[:100]"
   ]
  },
  {
   "cell_type": "code",
   "execution_count": 28,
   "metadata": {},
   "outputs": [
    {
     "data": {
      "text/plain": [
       "['quotes',\n",
       " 'developers',\n",
       " '189',\n",
       " 'quotes',\n",
       " 'developers',\n",
       " 'twittericon',\n",
       " 'position',\n",
       " 'absolute',\n",
       " 'top',\n",
       " '7rem',\n",
       " 'right',\n",
       " '4rem',\n",
       " 'border',\n",
       " 'radius',\n",
       " '100',\n",
       " 'display',\n",
       " 'inline',\n",
       " 'block',\n",
       " 'background',\n",
       " 'size',\n",
       " '80',\n",
       " 'background',\n",
       " 'position',\n",
       " 'center',\n",
       " 'background',\n",
       " 'repeat',\n",
       " 'repeat',\n",
       " 'width',\n",
       " '22px',\n",
       " 'height',\n",
       " '22px',\n",
       " 'background',\n",
       " 'image',\n",
       " 'url',\n",
       " 'data',\n",
       " 'image',\n",
       " 'png',\n",
       " 'base64',\n",
       " 'ivborw0kggoaaaansuheugaaacaaaaagcayaaabzenr0aaaczuleqvryr92xzxeaqrcfv',\n",
       " 'aaftmzmaymi2acgzwb4clgzbsbcqrcj4wvqheyr6brbeyrwergcbn1yfw97lkwp',\n",
       " 'xpcatkxauqhwa6377uef0qnjnkmevzsgcyiesgnckygnkfyknzxxblyzdtm3hgdsrugddldiczki0x31wlxxxqyrj',\n",
       " 'wjpzxjpnky84fojs9qtjazipowg',\n",
       " 's6zbfos5cg3',\n",
       " '8hohwql8ijpnzsuemai',\n",
       " 'wsooe3lzdfkzuqutdoi54elmatesezcapekc',\n",
       " 'p0432lf',\n",
       " 'ff',\n",
       " '8jveswjo447xmgsderhdgigtifxwqv0kkhxuxpauhy3bzszsavhpciodyizoqxyohqax53ty3zyo1cwdffa2wpjlbglw0qnxc2z3g6htxqcbm1pwmcacvflossv19njagbq9bx8wveeoemn9fjhulr90db52azhvzdg',\n",
       " 'hssmrg857yn430aord9dwrrpqge7weiwfggvdsyhpxtswo3rvqknnquyi7xf7hw',\n",
       " 'u8f4flqegtmr2mirv92cenexlr',\n",
       " '0kdgcee75ilj655uv8tc2jmkgbarid19g1k',\n",
       " 'psgab8ngezab8anc8cp2reu',\n",
       " 'eamwrmkkpqr1xzqwhygywwyaz0ltlc7c4f2qz1eg9qkdympkjq5jdful7fxqsrmfhnzbv',\n",
       " 'y3neoiwmtq2odf7f0cqlav24fxlopzws9fipzym1fhnbss7htdtuup3k',\n",
       " 'asbugedzud1re7acml',\n",
       " 'fzygoyzypgmzn',\n",
       " 'iea0lqgtkvxu9ei',\n",
       " 'tf5jtuz',\n",
       " 'ftmi6vevgqs0c8rj9murnxroiqjkty5x9a5n9f1isw7gaaaabjru5erkjggg',\n",
       " 'twittericon',\n",
       " 'hover',\n",
       " 'background',\n",
       " 'color',\n",
       " 'black',\n",
       " 'box',\n",
       " 'shadow',\n",
       " '0',\n",
       " '0',\n",
       " '0',\n",
       " '1px',\n",
       " 'black',\n",
       " 'always',\n",
       " 'code',\n",
       " 'guy',\n",
       " 'ends',\n",
       " 'maintaining',\n",
       " 'code',\n",
       " 'violent',\n",
       " 'psychopath',\n",
       " 'knows',\n",
       " 'live',\n",
       " 'martin',\n",
       " 'golding',\n",
       " 'computers',\n",
       " 'wait',\n",
       " 'speed',\n",
       " 'unknown',\n",
       " 'misplaced',\n",
       " 'decimal',\n",
       " 'point',\n",
       " 'always',\n",
       " 'end',\n",
       " 'greatest',\n",
       " 'damage',\n",
       " 'unknown',\n",
       " 'good',\n",
       " 'programmer',\n",
       " 'looks',\n",
       " 'ways',\n",
       " 'crossing']"
      ]
     },
     "execution_count": 28,
     "metadata": {},
     "output_type": "execute_result"
    }
   ],
   "source": [
    "# Initialize new list\n",
    "words_ns = []\n",
    "\n",
    "# Add to words_ns all words that are in words but not in sw\n",
    "for word in words:\n",
    "    if word not in sw:\n",
    "        words_ns.append(word)\n",
    "\n",
    "# Print several list items as sanity check\n",
    "words_ns[:100]"
   ]
  },
  {
   "cell_type": "code",
   "execution_count": 32,
   "metadata": {},
   "outputs": [
    {
     "data": {
      "image/png": "[encoded data removed]",
      "text/plain": [
       "<Figure size 432x288 with 1 Axes>"
      ]
     },
     "metadata": {},
     "output_type": "display_data"
    }
   ],
   "source": [
    "#Import datavis libraries\n",
    "import matplotlib.pyplot as plt\n",
    "import seaborn as sns\n",
    "\n",
    "# Figures inline and set visualization style\n",
    "%matplotlib inline\n",
    "sns.set()\n",
    "\n",
    "# Create freq dist and plot\n",
    "freqdist1 = nltk.FreqDist(words_ns)\n",
    "freqdist1.plot(10)"
   ]
  },
  {
   "cell_type": "code",
   "execution_count": null,
   "metadata": {},
   "outputs": [],
   "source": []
  }
 ],
 "metadata": {
  "kernelspec": {
   "display_name": "Python 3",
   "language": "python",
   "name": "python3"
  },
  "language_info": {
   "codemirror_mode": {
    "name": "ipython",
    "version": 3
   },
   "file_extension": ".py",
   "mimetype": "text/x-python",
   "name": "python",
   "nbconvert_exporter": "python",
   "pygments_lexer": "ipython3",
   "version": "3.6.5"
  }
 },
 "nbformat": 4,
 "nbformat_minor": 2
}
