{
 "cells": [
  {
   "cell_type": "code",
   "execution_count": 1,
   "metadata": {},
   "outputs": [],
   "source": [
    "import numpy as np"
   ]
  },
  {
   "cell_type": "code",
   "execution_count": 2,
   "metadata": {},
   "outputs": [],
   "source": [
    "points = np.loadtxt('points.txt')"
   ]
  },
  {
   "cell_type": "code",
   "execution_count": 3,
   "metadata": {},
   "outputs": [],
   "source": [
    "# import os\n",
    "# np.savetxt('points.txt', array name)"
   ]
  },
  {
   "cell_type": "code",
   "execution_count": 4,
   "metadata": {
    "scrolled": true
   },
   "outputs": [
    {
     "data": {
      "text/plain": [
       "array([[ 0.06544649, -0.76866376],\n",
       "       [-1.52901547, -0.42953079],\n",
       "       [ 1.70993371,  0.69885253],\n",
       "       [ 1.16779145,  1.01262638],\n",
       "       [-1.80110088, -0.31861296],\n",
       "       [-1.63567888, -0.02859535],\n",
       "       [ 1.21990375,  0.74643463],\n",
       "       [-0.26175155, -0.62492939],\n",
       "       [-1.61925804, -0.47983949],\n",
       "       [-1.84329582, -0.16694431],\n",
       "       [ 1.35999602,  0.94995827],\n",
       "       [ 0.42291856, -0.7349534 ],\n",
       "       [-1.68576139,  0.10686728],\n",
       "       [ 0.90629995,  1.09105162],\n",
       "       [-1.56478322, -0.84675394],\n",
       "       [-0.0257849 , -1.18672539],\n",
       "       [ 0.83027324,  1.14504612],\n",
       "       [ 1.22450432,  1.35066759],\n",
       "       [-0.15394596, -0.71704301],\n",
       "       [ 0.86358809,  1.06824613],\n",
       "       [-1.43386366, -0.2381297 ],\n",
       "       [ 0.03844769, -0.74635022],\n",
       "       [-1.58567922,  0.08499354],\n",
       "       [ 0.6359888 , -0.58477698],\n",
       "       [ 0.24417242, -0.53172465],\n",
       "       [-2.19680359,  0.49473677],\n",
       "       [ 1.0323503 , -0.55688   ],\n",
       "       [-0.28858067, -0.39972528],\n",
       "       [ 0.20597008, -0.80171536],\n",
       "       [-1.2107308 , -0.34924109],\n",
       "       [ 1.33423684,  0.7721489 ],\n",
       "       [ 1.19480152,  1.04788556],\n",
       "       [ 0.9917477 ,  0.89202008],\n",
       "       [-1.8356219 , -0.04839732],\n",
       "       [ 0.08415721, -0.71564326],\n",
       "       [-1.48970175, -0.19299604],\n",
       "       [ 0.38782418, -0.82060119],\n",
       "       [-0.01448044, -0.9779841 ],\n",
       "       [-2.0521341 , -0.02129125],\n",
       "       [ 0.10331194, -0.82162781],\n",
       "       [-0.44189315, -0.65710974],\n",
       "       [ 1.10390926,  1.02481182],\n",
       "       [-1.59227759, -0.17374038],\n",
       "       [-1.47344152, -0.02202853],\n",
       "       [-1.35514704,  0.22971067],\n",
       "       [ 0.0412337 , -1.23776622],\n",
       "       [ 0.4761517 , -1.13672124],\n",
       "       [ 1.04335676,  0.82345905],\n",
       "       [-0.07961882, -0.85677394],\n",
       "       [ 0.87065059,  1.08052841],\n",
       "       [ 1.40267313,  1.07525119],\n",
       "       [ 0.80111157,  1.28342825],\n",
       "       [-0.16527516, -1.23583804],\n",
       "       [-0.33779221, -0.59194323],\n",
       "       [ 0.80610749, -0.73752159],\n",
       "       [-1.43590032, -0.56384446],\n",
       "       [ 0.54868895, -0.95143829],\n",
       "       [ 0.46803131, -0.74973907],\n",
       "       [-1.5137129 , -0.83914323],\n",
       "       [ 0.9138436 ,  1.51126532],\n",
       "       [-1.97233903, -0.41155375],\n",
       "       [ 0.5213406 , -0.88654894],\n",
       "       [ 0.62759494, -1.18590477],\n",
       "       [ 0.94163014,  1.35399335],\n",
       "       [ 0.56994768,  1.07036606],\n",
       "       [-1.87663382,  0.14745773],\n",
       "       [ 0.90612186,  0.91084011],\n",
       "       [-1.37481454,  0.28428395],\n",
       "       [-1.80564029, -0.96710574],\n",
       "       [ 0.34307757, -0.79999275],\n",
       "       [ 0.70380566,  1.00025804],\n",
       "       [-1.68489862, -0.30564595],\n",
       "       [ 1.31473221,  0.98614978],\n",
       "       [ 0.26151216, -0.26069251],\n",
       "       [ 0.9193121 ,  0.82371485],\n",
       "       [-1.21795929, -0.20219674],\n",
       "       [-0.17722723, -1.02665245],\n",
       "       [ 0.64824862, -0.66822881],\n",
       "       [ 0.41206786, -0.28783784],\n",
       "       [ 1.01568202,  1.13481667],\n",
       "       [ 0.67900254, -0.91489502],\n",
       "       [-1.05182747, -0.01062376],\n",
       "       [ 0.61306599,  1.78210384],\n",
       "       [-1.50219748, -0.52308922],\n",
       "       [-1.72717293, -0.46173916],\n",
       "       [-1.60995631, -0.1821007 ],\n",
       "       [-1.09111021, -0.0781398 ],\n",
       "       [-0.01046978, -0.80913034],\n",
       "       [ 0.32782303, -0.80734754],\n",
       "       [ 1.22038503,  1.1959793 ],\n",
       "       [-1.33328681, -0.30001937],\n",
       "       [ 0.87959517,  1.11566491],\n",
       "       [-1.14829098, -0.30400762],\n",
       "       [-0.58019755, -1.19996018],\n",
       "       [-0.01161159, -0.78468854],\n",
       "       [ 0.17359724, -0.63398145],\n",
       "       [ 1.32738556,  0.67759969],\n",
       "       [-1.93467327,  0.30572472],\n",
       "       [-1.57761893, -0.27726365],\n",
       "       [ 0.47639   ,  1.21422648],\n",
       "       [-1.65237509, -0.6803981 ],\n",
       "       [-0.12609976, -1.04327457],\n",
       "       [-1.89607082, -0.70085502],\n",
       "       [ 0.57466899,  0.74878369],\n",
       "       [-0.16660312, -0.83110295],\n",
       "       [ 0.8013355 ,  1.22244435],\n",
       "       [ 1.18455426,  1.4346467 ],\n",
       "       [ 1.08864428,  0.64667112],\n",
       "       [-1.61158505,  0.22805725],\n",
       "       [-1.57512205, -0.09612576],\n",
       "       [ 0.0721357 , -0.69640328],\n",
       "       [-1.40054298,  0.16390598],\n",
       "       [ 1.09607713,  1.16804691],\n",
       "       [-2.54346204, -0.23089822],\n",
       "       [-1.34544875,  0.25151126],\n",
       "       [-1.35478629, -0.19103317],\n",
       "       [ 0.18368113, -1.15827725],\n",
       "       [-1.31368677, -0.376357  ],\n",
       "       [ 0.09990129,  1.22500491],\n",
       "       [ 1.17225574,  1.30835143],\n",
       "       [ 0.0865397 , -0.79714371],\n",
       "       [-0.21053923, -1.13421511],\n",
       "       [ 0.26496024, -0.94760742],\n",
       "       [-0.2557591 , -1.06266022],\n",
       "       [-0.26039757, -0.74774225],\n",
       "       [-1.91787359,  0.16434571],\n",
       "       [ 0.93021139,  0.49436331],\n",
       "       [ 0.44770467, -0.72877918],\n",
       "       [-1.63802869, -0.58925528],\n",
       "       [-1.95712763, -0.10125137],\n",
       "       [ 0.9270337 ,  0.88251423],\n",
       "       [ 1.25660093,  0.60828073],\n",
       "       [-1.72818632,  0.08416887],\n",
       "       [ 0.3499788 , -0.30490298],\n",
       "       [-1.51696082, -0.50913109],\n",
       "       [ 0.18763605, -0.55424924],\n",
       "       [ 0.89609809,  0.83551508],\n",
       "       [-1.54968857, -0.17114782],\n",
       "       [ 1.2157457 ,  1.23317728],\n",
       "       [ 0.20307745, -1.03784906],\n",
       "       [ 0.84589086,  1.03615273],\n",
       "       [ 0.53237919,  1.47362884],\n",
       "       [-0.05319044, -1.36150553],\n",
       "       [ 1.38819743,  1.11729915],\n",
       "       [ 1.00696304,  1.0367721 ],\n",
       "       [ 0.56681869, -1.09637176],\n",
       "       [ 0.86888296,  1.05248874],\n",
       "       [-1.16286609, -0.55875245],\n",
       "       [ 0.27717768, -0.83844015],\n",
       "       [ 0.16563267, -0.80306607],\n",
       "       [ 0.38263303, -0.42683241],\n",
       "       [ 1.14519807,  0.89659026],\n",
       "       [ 0.81455857,  0.67533667],\n",
       "       [-1.8603152 , -0.09537561],\n",
       "       [ 0.965641  ,  0.90295579],\n",
       "       [-1.49897451, -0.33254044],\n",
       "       [-0.1335489 , -0.80727582],\n",
       "       [ 0.12541527, -1.13354906],\n",
       "       [ 1.06062436,  1.28816358],\n",
       "       [-1.49154578, -0.2024641 ],\n",
       "       [ 1.16189032,  1.28819877],\n",
       "       [ 0.54282033,  0.75203524],\n",
       "       [ 0.89221065,  0.99211624],\n",
       "       [-1.49932011, -0.32430667],\n",
       "       [ 0.3166647 , -1.34482915],\n",
       "       [ 0.13972469, -1.22097448],\n",
       "       [-1.5499724 , -0.10782584],\n",
       "       [ 1.23846858,  1.37668804],\n",
       "       [ 1.25558954,  0.72026098],\n",
       "       [ 0.25558689, -1.28529763],\n",
       "       [ 0.45168933, -0.55952093],\n",
       "       [ 1.06202057,  1.03404604],\n",
       "       [ 0.67451908, -0.54970299],\n",
       "       [ 0.22759676, -1.02729468],\n",
       "       [-1.45835281, -0.04951074],\n",
       "       [ 0.23273501, -0.70849262],\n",
       "       [ 1.59679589,  1.11395076],\n",
       "       [ 0.80476105,  0.544627  ],\n",
       "       [ 1.15492521,  1.04352191],\n",
       "       [ 0.59632776, -1.19142897],\n",
       "       [ 0.02839068, -0.43829366],\n",
       "       [ 1.13451584,  0.5632633 ],\n",
       "       [ 0.21576204, -1.04445753],\n",
       "       [ 1.41048987,  1.02830719],\n",
       "       [ 1.12289302,  0.58029441],\n",
       "       [ 0.25200688, -0.82588436],\n",
       "       [-1.28566081, -0.07390909],\n",
       "       [ 1.52849815,  1.11822469],\n",
       "       [-0.23907858, -0.70541972],\n",
       "       [-0.25792784, -0.81825035],\n",
       "       [ 0.59367818, -0.45239915],\n",
       "       [ 0.07931909, -0.29233213],\n",
       "       [-1.27256815,  0.11630577],\n",
       "       [ 0.66930129,  1.00731481],\n",
       "       [ 0.34791546, -1.20822877],\n",
       "       [-2.11283993, -0.66897935],\n",
       "       [-1.6293824 , -0.32718222],\n",
       "       [-1.53819139, -0.01501972],\n",
       "       [-0.11988545, -0.6036339 ],\n",
       "       [-1.54418956, -0.30389844],\n",
       "       [ 0.30026614, -0.77723173],\n",
       "       [ 0.00935449, -0.53888192],\n",
       "       [-1.33424393, -0.11560431],\n",
       "       [ 0.47504489,  0.78421384],\n",
       "       [ 0.59313264,  1.232239  ],\n",
       "       [ 0.41370369, -1.35205857],\n",
       "       [ 0.55840948,  0.78831053],\n",
       "       [ 0.49855018, -0.789949  ],\n",
       "       [ 0.35675809, -0.81038693],\n",
       "       [-1.86197825, -0.59071305],\n",
       "       [-1.61977671, -0.16076687],\n",
       "       [ 0.80779295, -0.73311294],\n",
       "       [ 1.62745775,  0.62787163],\n",
       "       [-1.56993593, -0.08467567],\n",
       "       [ 1.02558561,  0.89383302],\n",
       "       [ 0.24293461, -0.6088253 ],\n",
       "       [ 1.23130242,  1.00262186],\n",
       "       [-1.9651013 , -0.15886289],\n",
       "       [ 0.42795032, -0.70384432],\n",
       "       [-1.58306818, -0.19431923],\n",
       "       [-1.57195922,  0.01413469],\n",
       "       [-0.98145373,  0.06132285],\n",
       "       [-1.48637844, -0.5746531 ],\n",
       "       [ 0.98745828,  0.69188053],\n",
       "       [ 1.28619721,  1.28128821],\n",
       "       [ 0.85850596,  0.95541481],\n",
       "       [ 0.19028286, -0.82112942],\n",
       "       [ 0.26561046, -0.04255239],\n",
       "       [-1.61897897,  0.00862372],\n",
       "       [ 0.24070183, -0.52664209],\n",
       "       [ 1.15220993,  0.43916694],\n",
       "       [-1.21967812, -0.2580313 ],\n",
       "       [ 0.33412533, -0.86117761],\n",
       "       [ 0.17131003, -0.75638965],\n",
       "       [-1.19828397, -0.73744665],\n",
       "       [-0.12245932, -0.45648879],\n",
       "       [ 1.51200698,  0.88825741],\n",
       "       [ 1.10338866,  0.92347479],\n",
       "       [ 1.30972095,  0.59066989],\n",
       "       [ 0.19964876,  1.14855889],\n",
       "       [ 0.81460515,  0.84538972],\n",
       "       [-1.6422739 , -0.42296206],\n",
       "       [ 0.01224351, -0.21247816],\n",
       "       [ 0.33709102, -0.74618065],\n",
       "       [ 0.47301054,  0.72712075],\n",
       "       [ 0.34706626,  1.23033757],\n",
       "       [-0.00393279, -0.97209694],\n",
       "       [-1.64303119,  0.05276337],\n",
       "       [ 1.44649625,  1.14217033],\n",
       "       [-1.93030087, -0.40026146],\n",
       "       [-2.37296135, -0.72633645],\n",
       "       [ 0.45860122, -1.06048953],\n",
       "       [ 0.4896361 , -1.18928313],\n",
       "       [-1.02335902, -0.17520578],\n",
       "       [-1.32761107, -0.93963549],\n",
       "       [-1.50987909, -0.09473658],\n",
       "       [ 0.02723057, -0.79870549],\n",
       "       [ 1.0169412 ,  1.26461701],\n",
       "       [ 0.47733527, -0.9898471 ],\n",
       "       [-1.27784224, -0.547416  ],\n",
       "       [ 0.49898802, -0.6237259 ],\n",
       "       [ 1.06004731,  0.86870008],\n",
       "       [ 1.00207501,  1.38293512],\n",
       "       [ 1.31161394,  0.62833956],\n",
       "       [ 1.13428443,  1.18346542],\n",
       "       [ 1.27671346,  0.96632878],\n",
       "       [-0.63342885, -0.97768251],\n",
       "       [ 0.12698779, -0.93142317],\n",
       "       [-1.34510812, -0.23754226],\n",
       "       [-0.53162278, -1.25153594],\n",
       "       [ 0.21959934, -0.90269938],\n",
       "       [-1.78997479, -0.12115748],\n",
       "       [ 1.23197473, -0.07453764],\n",
       "       [ 1.4163536 ,  1.21551752],\n",
       "       [-1.90280976, -0.1638976 ],\n",
       "       [-0.22440081, -0.75454248],\n",
       "       [ 0.59559412,  0.92414553],\n",
       "       [ 1.21930773,  1.08175284],\n",
       "       [-1.99427535, -0.37587799],\n",
       "       [-1.27818474, -0.52454551],\n",
       "       [ 0.62352689, -1.01430108],\n",
       "       [ 0.14024251, -0.428266  ],\n",
       "       [-0.16145713, -1.16359731],\n",
       "       [-1.74795865, -0.06033101],\n",
       "       [-1.16659791,  0.0902393 ],\n",
       "       [ 0.41110408, -0.8084249 ],\n",
       "       [ 1.14757168,  0.77804528],\n",
       "       [-1.65590748, -0.40105446],\n",
       "       [-1.15306865,  0.00858699],\n",
       "       [ 0.60892121,  0.68974833],\n",
       "       [-0.08434138, -0.97615256],\n",
       "       [ 0.19170053, -0.42331438],\n",
       "       [ 0.29663162, -1.13357399],\n",
       "       [-1.36893628, -0.25052124],\n",
       "       [-0.08037807, -0.56784155],\n",
       "       [ 0.35695011, -1.15064408],\n",
       "       [ 0.02482179, -0.63594828],\n",
       "       [-1.49075558, -0.2482507 ],\n",
       "       [-1.408588  ,  0.25635431],\n",
       "       [-1.98274626, -0.54584475]])"
      ]
     },
     "execution_count": 4,
     "metadata": {},
     "output_type": "execute_result"
    }
   ],
   "source": [
    "points"
   ]
  },
  {
   "cell_type": "markdown",
   "metadata": {},
   "source": [
    "### Clustering 2D points"
   ]
  },
  {
   "cell_type": "code",
   "execution_count": 5,
   "metadata": {},
   "outputs": [],
   "source": [
    "new_points= np.loadtxt('new_points.txt')"
   ]
  },
  {
   "cell_type": "code",
   "execution_count": 6,
   "metadata": {},
   "outputs": [
    {
     "name": "stdout",
     "output_type": "stream",
     "text": [
      "[2 0 1 2 0 2 0 0 0 1 2 0 0 1 1 0 1 1 0 0 1 0 2 0 2 1 0 1 1 2 2 0 0 0 1 2 0\n",
      " 0 2 0 1 2 2 1 2 0 1 1 0 0 0 0 1 1 2 2 1 1 1 2 2 0 0 0 2 0 1 0 2 1 2 2 2 0\n",
      " 2 1 1 2 0 1 2 1 2 0 1 0 1 2 0 0 0 2 0 0 2 1 1 1 1 2 0 2 1 1 2 2 0 2 1 1 2\n",
      " 1 1 1 0 0 0 0 1 1 0 2 0 1 0 2 1 0 1 1 0 1 0 1 2 0 2 2 0 1 2 0 2 2 1 0 0 2\n",
      " 1 2 1 0 2 1 1 2 1 0 0 1 0 1 1 0 0 2 0 0 1 2 1 2 2 0 2 0 0 2 2 1 2 2 2 1 0\n",
      " 0 2 1 2 1 1 0 0 0 2 0 0 0 1 1 2 0 2 2 2 1 0 0 0 0 0 0 1 1 0 1 1 1 1 0 1 1\n",
      " 0 0 2 1 2 2 1 2 1 2 1 0 0 1 0 0 0 1 2 2 1 0 0 1 0 1 1 0 1 1 2 1 2 2 2 0 1\n",
      " 1 1 2 0 2 1 2 1 1 0 2 2 2 1 0 0 0 2 0 1 1 0 2 2 1 2 2 1 2 0 2 1 1 1 1 0 1\n",
      " 1 0 0 2]\n"
     ]
    }
   ],
   "source": [
    "# Import KMeans\n",
    "from sklearn.cluster import KMeans\n",
    "\n",
    "# Create a KMeans instance with 3 clusters: model\n",
    "model = KMeans(n_clusters=3)\n",
    "\n",
    "# Fit model to points\n",
    "model.fit(points)\n",
    "\n",
    "# Determine the cluster labels of new_points: labels\n",
    "labels = model.predict(new_points)\n",
    "\n",
    "# Print cluster labels of new_points\n",
    "print(labels)\n"
   ]
  },
  {
   "cell_type": "code",
   "execution_count": 7,
   "metadata": {},
   "outputs": [
    {
     "data": {
      "image/png": "[encoded data removed]",
      "text/plain": [
       "<Figure size 432x288 with 1 Axes>"
      ]
     },
     "metadata": {
      "needs_background": "light"
     },
     "output_type": "display_data"
    }
   ],
   "source": [
    "# Import pyplot\n",
    "import matplotlib.pyplot as plt\n",
    "\n",
    "# Assign the columns of new_points: xs and ys\n",
    "xs = new_points[:,0]\n",
    "ys = new_points[:,1]\n",
    "\n",
    "# Make a scatter plot of xs and ys, using labels to define the colors\n",
    "plt.scatter(xs,ys, c=labels, alpha=.5)\n",
    "\n",
    "# Assign the cluster centers: centroids\n",
    "centroids = model.cluster_centers_\n",
    "\n",
    "# Assign the columns of centroids: centroids_x, centroids_y\n",
    "centroids_x = centroids[:,0]\n",
    "centroids_y = centroids[:,1]\n",
    "\n",
    "# Make a scatter plot of centroids_x and centroids_y\n",
    "plt.scatter(centroids_x,centroids_y, marker='D',s=50)\n",
    "plt.show()\n"
   ]
  },
  {
   "cell_type": "markdown",
   "metadata": {},
   "source": [
    "### How many clusters of grain?"
   ]
  },
  {
   "cell_type": "code",
   "execution_count": 8,
   "metadata": {},
   "outputs": [],
   "source": [
    "samples = np.loadtxt('seeds_dataset.txt')\n",
    "# samples.shape"
   ]
  },
  {
   "cell_type": "code",
   "execution_count": 9,
   "metadata": {},
   "outputs": [
    {
     "data": {
      "image/png": "[encoded data removed]",
      "text/plain": [
       "<Figure size 432x288 with 1 Axes>"
      ]
     },
     "metadata": {
      "needs_background": "light"
     },
     "output_type": "display_data"
    }
   ],
   "source": [
    "ks = range(1, 6)\n",
    "inertias = []\n",
    "\n",
    "for k in ks:\n",
    "    # Create a KMeans instance with k clusters: model\n",
    "    model= KMeans(n_clusters=k)\n",
    "    \n",
    "    # Fit model to samples\n",
    "    model.fit(samples)\n",
    "    \n",
    "    # Append the inertia to the list of inertias\n",
    "    inertias.append(model.inertia_)\n",
    "    \n",
    "# Plot ks vs inertias\n",
    "plt.plot(ks, inertias, '-o')\n",
    "plt.xlabel('number of clusters, k')\n",
    "plt.ylabel('inertia')\n",
    "plt.xticks(ks)\n",
    "plt.show()\n"
   ]
  },
  {
   "cell_type": "markdown",
   "metadata": {},
   "source": [
    "### Evaluating the grain clustering"
   ]
  },
  {
   "cell_type": "code",
   "execution_count": 10,
   "metadata": {},
   "outputs": [],
   "source": [
    "lineList = [line.strip('\\n') for line in open('varieties.txt')]\n",
    "varieties = [x.strip() for x in lineList]"
   ]
  },
  {
   "cell_type": "code",
   "execution_count": 11,
   "metadata": {},
   "outputs": [],
   "source": [
    "import pandas as pd"
   ]
  },
  {
   "cell_type": "code",
   "execution_count": 12,
   "metadata": {},
   "outputs": [
    {
     "name": "stdout",
     "output_type": "stream",
     "text": [
      "varieties  Canadian wheat  Kama wheat  Rosa wheat\n",
      "labels                                           \n",
      "0                       0           1          60\n",
      "1                       0          64          10\n",
      "2                      70           5           0\n"
     ]
    }
   ],
   "source": [
    "# Create a KMeans model with 3 clusters: model\n",
    "model = KMeans(n_clusters=3)\n",
    "\n",
    "# Use fit_predict to fit model and obtain cluster labels: labels\n",
    "labels = model.fit_predict(samples)\n",
    "\n",
    "# Create a DataFrame with labels and varieties as columns: df\n",
    "df = pd.DataFrame({'labels': labels, 'varieties': varieties})\n",
    "\n",
    "# Create crosstab: ct\n",
    "ct = pd.crosstab(df['labels'],df['varieties'])\n",
    "\n",
    "# Display ct\n",
    "print(ct)\n"
   ]
  },
  {
   "cell_type": "code",
   "execution_count": 13,
   "metadata": {},
   "outputs": [],
   "source": [
    "# Perform the necessary imports\n",
    "from sklearn.pipeline import make_pipeline\n",
    "from sklearn.preprocessing import StandardScaler\n",
    "from sklearn.cluster import KMeans\n",
    "\n",
    "# Create scaler: scaler\n",
    "scaler = StandardScaler()\n",
    "\n",
    "# Create KMeans instance: kmeans\n",
    "kmeans = KMeans(n_clusters=4)\n",
    "\n",
    "# Create pipeline: pipeline\n",
    "pipeline = make_pipeline(scaler, kmeans)\n"
   ]
  },
  {
   "cell_type": "markdown",
   "metadata": {},
   "source": [
    "### Clustering the fish data"
   ]
  },
  {
   "cell_type": "code",
   "execution_count": 14,
   "metadata": {},
   "outputs": [],
   "source": [
    "samples=np.array([[ 242. ,   23.2,   25.4,   30. ,   38.4,   13.4],\n",
    "       [ 290. ,   24. ,   26.3,   31.2,   40. ,   13.8],\n",
    "       [ 340. ,   23.9,   26.5,   31.1,   39.8,   15.1],\n",
    "       [ 363. ,   26.3,   29. ,   33.5,   38. ,   13.3],\n",
    "       [ 430. ,   26.5,   29. ,   34. ,   36.6,   15.1],\n",
    "       [ 450. ,   26.8,   29.7,   34.7,   39.2,   14.2],\n",
    "       [ 500. ,   26.8,   29.7,   34.5,   41.1,   15.3],\n",
    "       [ 390. ,   27.6,   30. ,   35. ,   36.2,   13.4],\n",
    "       [ 450. ,   27.6,   30. ,   35.1,   39.9,   13.8],\n",
    "       [ 500. ,   28.5,   30.7,   36.2,   39.3,   13.7],\n",
    "       [ 475. ,   28.4,   31. ,   36.2,   39.4,   14.1],\n",
    "       [ 500. ,   28.7,   31. ,   36.2,   39.7,   13.3],\n",
    "       [ 500. ,   29.1,   31.5,   36.4,   37.8,   12. ],\n",
    "       [ 600. ,   29.4,   32. ,   37.2,   40.2,   13.9],\n",
    "       [ 600. ,   29.4,   32. ,   37.2,   41.5,   15. ],\n",
    "       [ 700. ,   30.4,   33. ,   38.3,   38.8,   13.8],\n",
    "       [ 700. ,   30.4,   33. ,   38.5,   38.8,   13.5],\n",
    "       [ 610. ,   30.9,   33.5,   38.6,   40.5,   13.3],\n",
    "       [ 650. ,   31. ,   33.5,   38.7,   37.4,   14.8],\n",
    "       [ 575. ,   31.3,   34. ,   39.5,   38.3,   14.1],\n",
    "       [ 685. ,   31.4,   34. ,   39.2,   40.8,   13.7],\n",
    "       [ 620. ,   31.5,   34.5,   39.7,   39.1,   13.3],\n",
    "       [ 680. ,   31.8,   35. ,   40.6,   38.1,   15.1],\n",
    "       [ 700. ,   31.9,   35. ,   40.5,   40.1,   13.8],\n",
    "       [ 725. ,   31.8,   35. ,   40.9,   40. ,   14.8],\n",
    "       [ 720. ,   32. ,   35. ,   40.6,   40.3,   15. ],\n",
    "       [ 714. ,   32.7,   36. ,   41.5,   39.8,   14.1],\n",
    "       [ 850. ,   32.8,   36. ,   41.6,   40.6,   14.9],\n",
    "       [1000. ,   33.5,   37. ,   42.6,   44.5,   15.5],\n",
    "       [ 920. ,   35. ,   38.5,   44.1,   40.9,   14.3],\n",
    "       [ 955. ,   35. ,   38.5,   44. ,   41.1,   14.3],\n",
    "       [ 925. ,   36.2,   39.5,   45.3,   41.4,   14.9],\n",
    "       [ 975. ,   37.4,   41. ,   45.9,   40.6,   14.7],\n",
    "       [ 950. ,   38. ,   41. ,   46.5,   37.9,   13.7],\n",
    "       [  40. ,   12.9,   14.1,   16.2,   25.6,   14. ],\n",
    "       [  69. ,   16.5,   18.2,   20.3,   26.1,   13.9],\n",
    "       [  78. ,   17.5,   18.8,   21.2,   26.3,   13.7],\n",
    "       [  87. ,   18.2,   19.8,   22.2,   25.3,   14.3],\n",
    "       [ 120. ,   18.6,   20. ,   22.2,   28. ,   16.1],\n",
    "       [   0. ,   19. ,   20.5,   22.8,   28.4,   14.7],\n",
    "       [ 110. ,   19.1,   20.8,   23.1,   26.7,   14.7],\n",
    "       [ 120. ,   19.4,   21. ,   23.7,   25.8,   13.9],\n",
    "       [ 150. ,   20.4,   22. ,   24.7,   23.5,   15.2],\n",
    "       [ 145. ,   20.5,   22. ,   24.3,   27.3,   14.6],\n",
    "       [ 160. ,   20.5,   22.5,   25.3,   27.8,   15.1],\n",
    "       [ 140. ,   21. ,   22.5,   25. ,   26.2,   13.3],\n",
    "       [ 160. ,   21.1,   22.5,   25. ,   25.6,   15.2],\n",
    "       [ 169. ,   22. ,   24. ,   27.2,   27.7,   14.1],\n",
    "       [ 161. ,   22. ,   23.4,   26.7,   25.9,   13.6],\n",
    "       [ 200. ,   22.1,   23.5,   26.8,   27.6,   15.4],\n",
    "       [ 180. ,   23.6,   25.2,   27.9,   25.4,   14. ],\n",
    "       [ 290. ,   24. ,   26. ,   29.2,   30.4,   15.4],\n",
    "       [ 272. ,   25. ,   27. ,   30.6,   28. ,   15.6],\n",
    "       [ 390. ,   29.5,   31.7,   35. ,   27.1,   15.3],\n",
    "       [   6.7,    9.3,    9.8,   10.8,   16.1,    9.7],\n",
    "       [   7.5,   10. ,   10.5,   11.6,   17. ,   10. ],\n",
    "       [   7. ,   10.1,   10.6,   11.6,   14.9,    9.9],\n",
    "       [   9.7,   10.4,   11. ,   12. ,   18.3,   11.5],\n",
    "       [   9.8,   10.7,   11.2,   12.4,   16.8,   10.3],\n",
    "       [   8.7,   10.8,   11.3,   12.6,   15.7,   10.2],\n",
    "       [  10. ,   11.3,   11.8,   13.1,   16.9,    9.8],\n",
    "       [   9.9,   11.3,   11.8,   13.1,   16.9,    8.9],\n",
    "       [   9.8,   11.4,   12. ,   13.2,   16.7,    8.7],\n",
    "       [  12.2,   11.5,   12.2,   13.4,   15.6,   10.4],\n",
    "       [  13.4,   11.7,   12.4,   13.5,   18. ,    9.4],\n",
    "       [  12.2,   12.1,   13. ,   13.8,   16.5,    9.1],\n",
    "       [  19.7,   13.2,   14.3,   15.2,   18.9,   13.6],\n",
    "       [  19.9,   13.8,   15. ,   16.2,   18.1,   11.6],\n",
    "       [ 200. ,   30. ,   32.3,   34.8,   16. ,    9.7],\n",
    "       [ 300. ,   31.7,   34. ,   37.8,   15.1,   11. ],\n",
    "       [ 300. ,   32.7,   35. ,   38.8,   15.3,   11.3],\n",
    "       [ 300. ,   34.8,   37.3,   39.8,   15.8,   10.1],\n",
    "       [ 430. ,   35.5,   38. ,   40.5,   18. ,   11.3],\n",
    "       [ 345. ,   36. ,   38.5,   41. ,   15.6,    9.7],\n",
    "       [ 456. ,   40. ,   42.5,   45.5,   16. ,    9.5],\n",
    "       [ 510. ,   40. ,   42.5,   45.5,   15. ,    9.8],\n",
    "       [ 540. ,   40.1,   43. ,   45.8,   17. ,   11.2],\n",
    "       [ 500. ,   42. ,   45. ,   48. ,   14.5,   10.2],\n",
    "       [ 567. ,   43.2,   46. ,   48.7,   16. ,   10. ],\n",
    "       [ 770. ,   44.8,   48. ,   51.2,   15. ,   10.5],\n",
    "       [ 950. ,   48.3,   51.7,   55.1,   16.2,   11.2],\n",
    "       [1250. ,   52. ,   56. ,   59.7,   17.9,   11.7],\n",
    "       [1600. ,   56. ,   60. ,   64. ,   15. ,    9.6],\n",
    "       [1550. ,   56. ,   60. ,   64. ,   15. ,    9.6],\n",
    "       [1650. ,   59. ,   63.4,   68. ,   15.9,   11. ]])"
   ]
  },
  {
   "cell_type": "code",
   "execution_count": 15,
   "metadata": {},
   "outputs": [],
   "source": [
    "species=['Bream',\n",
    " 'Bream',\n",
    " 'Bream',\n",
    " 'Bream',\n",
    " 'Bream',\n",
    " 'Bream',\n",
    " 'Bream',\n",
    " 'Bream',\n",
    " 'Bream',\n",
    " 'Bream',\n",
    " 'Bream',\n",
    " 'Bream',\n",
    " 'Bream',\n",
    " 'Bream',\n",
    " 'Bream',\n",
    " 'Bream',\n",
    " 'Bream',\n",
    " 'Bream',\n",
    " 'Bream',\n",
    " 'Bream',\n",
    " 'Bream',\n",
    " 'Bream',\n",
    " 'Bream',\n",
    " 'Bream',\n",
    " 'Bream',\n",
    " 'Bream',\n",
    " 'Bream',\n",
    " 'Bream',\n",
    " 'Bream',\n",
    " 'Bream',\n",
    " 'Bream',\n",
    " 'Bream',\n",
    " 'Bream',\n",
    " 'Bream',\n",
    " 'Roach',\n",
    " 'Roach',\n",
    " 'Roach',\n",
    " 'Roach',\n",
    " 'Roach',\n",
    " 'Roach',\n",
    " 'Roach',\n",
    " 'Roach',\n",
    " 'Roach',\n",
    " 'Roach',\n",
    " 'Roach',\n",
    " 'Roach',\n",
    " 'Roach',\n",
    " 'Roach',\n",
    " 'Roach',\n",
    " 'Roach',\n",
    " 'Roach',\n",
    " 'Roach',\n",
    " 'Roach',\n",
    " 'Roach',\n",
    " 'Smelt',\n",
    " 'Smelt',\n",
    " 'Smelt',\n",
    " 'Smelt',\n",
    " 'Smelt',\n",
    " 'Smelt',\n",
    " 'Smelt',\n",
    " 'Smelt',\n",
    " 'Smelt',\n",
    " 'Smelt',\n",
    " 'Smelt',\n",
    " 'Smelt',\n",
    " 'Smelt',\n",
    " 'Smelt',\n",
    " 'Pike',\n",
    " 'Pike',\n",
    " 'Pike',\n",
    " 'Pike',\n",
    " 'Pike',\n",
    " 'Pike',\n",
    " 'Pike',\n",
    " 'Pike',\n",
    " 'Pike',\n",
    " 'Pike',\n",
    " 'Pike',\n",
    " 'Pike',\n",
    " 'Pike',\n",
    " 'Pike',\n",
    " 'Pike',\n",
    " 'Pike',\n",
    " 'Pike']"
   ]
  },
  {
   "cell_type": "code",
   "execution_count": 16,
   "metadata": {},
   "outputs": [
    {
     "name": "stdout",
     "output_type": "stream",
     "text": [
      "species  Bream  Pike  Roach  Smelt\n",
      "labels                            \n",
      "0            0     0      0     13\n",
      "1           33     0      1      0\n",
      "2            1     0     19      1\n",
      "3            0    17      0      0\n"
     ]
    }
   ],
   "source": [
    "# Import pandas\n",
    "import pandas as pd\n",
    "\n",
    "# Fit the pipeline to samples\n",
    "pipeline.fit(samples)\n",
    "\n",
    "# Calculate the cluster labels: labels\n",
    "labels = pipeline.predict(samples)\n",
    "\n",
    "# Create a DataFrame with labels and species as columns: df\n",
    "df = pd.DataFrame({'labels':labels,'species':species})\n",
    "\n",
    "# Create crosstab: ct\n",
    "ct = pd.crosstab(df['labels'], df['species'])\n",
    "\n",
    "# Display ct\n",
    "print(ct)"
   ]
  },
  {
   "cell_type": "markdown",
   "metadata": {},
   "source": [
    "### Clustering stocks using KMeans"
   ]
  },
  {
   "cell_type": "code",
   "execution_count": 17,
   "metadata": {},
   "outputs": [],
   "source": [
    "movements = pd.read_csv('movements.csv').iloc[:, 1:]"
   ]
  },
  {
   "cell_type": "code",
   "execution_count": 18,
   "metadata": {
    "scrolled": true
   },
   "outputs": [
    {
     "data": {
      "text/plain": [
       "<bound method DataFrame.to_numpy of     2010-01-04  2010-01-05  2010-01-06  2010-01-07  2010-01-08  2010-01-11  \\\n",
       "0     0.580000   -0.220005   -3.409998   -1.170000    1.680011   -2.689994   \n",
       "1    -0.640002   -0.650000   -0.210001   -0.420000    0.710001   -0.200001   \n",
       "2    -2.350006    1.260009   -2.350006   -2.009995    2.960006   -2.309997   \n",
       "3     0.109997    0.000000    0.260002    0.720002    0.190003   -0.270001   \n",
       "4     0.459999    1.770000    1.549999    2.690003    0.059997   -1.080002   \n",
       "5     0.450000    0.460001    0.180000    0.250000   -0.199999   -0.060000   \n",
       "6     0.180000    0.220001    0.040001    0.250000   -0.360001   -0.099999   \n",
       "7     0.730000    0.369999   -0.099999   -0.169999    0.030003    0.110001   \n",
       "8     0.899997    0.700001    0.250000    0.369999    1.090000    3.179996   \n",
       "9     0.360000    0.909996   -0.290001   -0.059998    1.300003    0.510003   \n",
       "10    0.809991   -0.020006    0.340003    0.089988    0.650006    0.029999   \n",
       "11    0.580000   -0.020000   -0.120001    0.230002    0.280001   -0.049999   \n",
       "12    0.860001    0.400002    0.189995   -0.029999    0.349998    0.709999   \n",
       "13    0.279997   -0.420001    0.190002    0.500001   -0.340001   -0.050002   \n",
       "14   -0.080000    0.100000   -0.170000    0.150000    0.050000    0.000000   \n",
       "15    0.110000    0.510000    0.160000    0.200000    0.020000    0.210000   \n",
       "16    0.230000    0.070000   -0.080000    0.770000    0.290001   -0.070000   \n",
       "17   -0.199995   -3.189984  -17.599998  -15.299993   10.020000   -3.349979   \n",
       "18    3.029999    3.139999   -1.120010    3.349991   -2.020004   -3.500000   \n",
       "19   -0.110001   -0.160000   -0.220001    0.079998    0.039997    0.150001   \n",
       "20   -0.480000    0.149999   -0.099998    0.260000   -0.020000   -0.840000   \n",
       "21    0.439999    0.200001    0.180001    0.189999    0.250000    0.270000   \n",
       "22    0.910002    0.530000   -0.349997    0.010000    0.489999   -0.149998   \n",
       "23    1.270004   -0.829987   -0.679993   -0.319992    1.779999   -1.580002   \n",
       "24    0.089998   -0.070000   -0.010000   -0.130000    0.289999   -0.160000   \n",
       "25   -0.029999   -0.650002    0.549995   -0.259998    0.290001   -0.529999   \n",
       "26    1.059997    0.889999    0.469997    1.000000    0.310001   -0.590000   \n",
       "27   -0.020005    0.010003   -0.820004   -0.570000   -0.159997   -0.059995   \n",
       "28   -0.119999   -0.500000   -0.019996   -0.140003   -0.309997    1.119998   \n",
       "29    0.979995    1.029999    0.410004   -1.759994    1.260003    0.209999   \n",
       "30   -1.149998   -1.760006   -0.680007    0.489997    1.650009   -4.770012   \n",
       "31    0.149998   -0.360001   -0.750000    0.650002   -0.430000    0.300000   \n",
       "32   -0.069999   -0.300003   -0.209999    0.410003    0.629998   -0.399994   \n",
       "33    0.330000    0.109999   -0.109999   -0.179998    0.379999   -0.439999   \n",
       "34    0.060000    0.020000    0.010000    0.040000    0.060000   -0.020000   \n",
       "35    0.390004   -0.520001    1.110001    0.209999   -0.190003    0.029998   \n",
       "36    0.750000    0.250002    0.369999    0.840005    0.070003   -0.250001   \n",
       "37   -1.139999   -0.050000   -0.500000    0.029999   -0.079998    0.180000   \n",
       "38    0.050003    0.980000   -0.630001   -0.379997    0.010002    0.020001   \n",
       "39    0.660000   -0.260000   -0.060000   -0.109998    0.059999    0.000000   \n",
       "40    0.009998    0.009998   -0.090001   -0.060002    0.079998    0.119999   \n",
       "41    1.019996   -0.450001    0.259998    0.759999   -0.060002   -0.340000   \n",
       "42    0.489997   -0.190003   -0.229999    0.070000    0.350002   -0.049999   \n",
       "43   -0.119999   -0.160000    0.579998    0.529999    0.530003    0.239997   \n",
       "44    0.720002    0.310005    1.630005    1.020004    1.460000   -0.650001   \n",
       "45    0.500000    0.160000   -0.029999    0.059999    0.369999   -0.119999   \n",
       "46    0.480000   -0.110001    0.160000    0.229999    0.219998    0.010003   \n",
       "47    0.359999   -0.100001    0.140002   -0.149999    0.120001   -0.099998   \n",
       "48    0.330002    0.599999    0.489998    0.680000    1.260002    0.070000   \n",
       "49    0.059997    0.010002    0.320000    0.169999    0.630005   -0.190002   \n",
       "50    0.090000   -0.070000   -0.070000   -0.300000   -0.040000   -0.110000   \n",
       "51   -0.190001   -0.090000   -0.230000    0.150000    0.740000   -0.340000   \n",
       "52    0.060001   -0.039997    0.140001   -0.010000    0.180000   -0.319997   \n",
       "53    0.640002    0.230002    0.419999    0.170007   -0.239991   -0.350004   \n",
       "54    0.290001   -0.099998    0.560001    0.250000    0.070004    0.049999   \n",
       "55    0.300000    0.800000    0.080000    1.009998   -0.039999   -0.290001   \n",
       "56    0.489998   -0.400001    0.070000   -0.120003   -0.099998    0.879997   \n",
       "57    0.430001    0.229996    0.570000   -0.099999   -0.170005    0.360001   \n",
       "58    0.090000    0.010000   -0.080000    0.070000   -0.010000    0.160000   \n",
       "59    0.159999    0.010001    0.000000   -0.109998    0.020001   -0.030000   \n",
       "\n",
       "    2010-01-12  2010-01-13  2010-01-14  2010-01-15  ...  2013-10-16  \\\n",
       "0    -1.469994    2.779997   -0.680003   -4.999995  ...    0.320008   \n",
       "1    -1.130001    0.069999   -0.119999   -0.500000  ...    0.919998   \n",
       "2    -1.640007    1.209999   -1.790001   -2.039994  ...    2.109985   \n",
       "3     0.750000    0.300004    0.639999   -0.130001  ...    0.680001   \n",
       "4     0.360000    0.549999    0.530002   -0.709999  ...    1.559997   \n",
       "5    -0.359998    0.190001    0.190001   -0.379999  ...    0.240000   \n",
       "6     0.570000   -0.139999    0.260002   -0.150002  ...    0.220001   \n",
       "7    -0.079998    0.140000    0.389999   -0.130001  ...    0.209999   \n",
       "8    -0.769996    0.230004   -0.119998   -1.330002  ...    0.209999   \n",
       "9     1.050003    0.529999   -0.360001   -0.540001  ...    0.949997   \n",
       "10   -0.569995    0.549994    0.320001    0.190000  ...    0.639999   \n",
       "11   -0.240000    0.359998    0.370001   -0.600000  ...   -0.219999   \n",
       "12    0.890007   -0.469994   -0.079994   -0.309998  ...   -0.259994   \n",
       "13    0.000000    0.209999   -0.270003    0.000000  ...    0.490003   \n",
       "14    0.230000   -0.040000   -0.250000   -0.470000  ...    0.009000   \n",
       "15   -0.110000   -0.230000    0.110000   -0.140000  ...    0.210001   \n",
       "16    0.190000    0.070000   -0.090000   -0.239999  ...    0.010001   \n",
       "17   -7.170008   10.599985    5.949977  -13.340041  ...   12.160008   \n",
       "18   -2.189988    1.060012    0.529999   -2.389999  ...    3.669998   \n",
       "19    0.239998    0.079998    0.090001   -0.229999  ...    0.139999   \n",
       "20   -0.170000    0.129999    0.179998    0.260001  ...   -0.500000   \n",
       "21   -0.130001    0.380001    0.049999   -0.129997  ...    0.310002   \n",
       "22   -0.060001    0.020001    0.279996   -0.119998  ...    0.350001   \n",
       "23    1.479996   -0.160003    1.759995   -0.250000  ...    1.309998   \n",
       "24   -0.260000    0.240000    0.369999   -0.590000  ...    0.440001   \n",
       "25    0.430001    0.430000   -0.099999   -0.580001  ...    0.690003   \n",
       "26   -0.500000    0.700001    0.489998   -0.619999  ...    1.389999   \n",
       "27    0.490001    0.350001   -0.659999   -0.620001  ...    0.970006   \n",
       "28    0.790001    0.169998    0.090000   -0.660000  ...   -0.009998   \n",
       "29    0.209999    0.719993    0.049995   -0.199997  ...    1.199997   \n",
       "30    0.070000    4.340000    4.230003    0.839996  ...    6.040040   \n",
       "31    0.630001   -0.270001    0.090001   -0.389999  ...    0.919998   \n",
       "32    0.470001   -0.330002   -0.239998   -0.149994  ...    0.080001   \n",
       "33   -0.080000    0.090000    0.650000   -0.219999  ...    0.040001   \n",
       "34   -0.010000    0.030000    0.090000    0.050000  ...    0.070000   \n",
       "35   -0.510002    0.679996    0.639999   -0.590000  ...    0.539997   \n",
       "36    0.320001    1.540007    0.060001   -0.440002  ...    0.660003   \n",
       "37    0.360000   -0.020001    0.410000    0.040001  ...    0.450004   \n",
       "38    1.029999    0.639999    0.779999   -0.320000  ...    0.269997   \n",
       "39   -0.029999    0.339998    0.179998    0.060000  ...    0.539999   \n",
       "40    0.189998    0.479999    0.160004   -0.779998  ...    0.989998   \n",
       "41   -0.200001    0.500000    0.119998   -0.040001  ...    0.139999   \n",
       "42    0.169998    0.150002    0.399998   -0.500000  ...   -0.120003   \n",
       "43   -0.030003   -0.209999   -1.080002   -0.719997  ...    0.580002   \n",
       "44    0.389999    1.139999    1.180000   -0.389999  ...    1.250000   \n",
       "45    0.100001    0.380001    0.140000   -0.200001  ...    0.130001   \n",
       "46    0.250000    0.049999    0.389999   -0.380001  ...    0.100002   \n",
       "47    0.139999   -0.049999   -0.010000   -0.140000  ...   -0.010000   \n",
       "48    0.070000    0.200004    1.410003   -0.739998  ...    0.740005   \n",
       "49    0.269997   -0.160004    0.290000   -0.710003  ...   -0.380001   \n",
       "50   -0.180000    0.270000   -0.140000   -0.340000  ...    0.110001   \n",
       "51   -1.110000    0.010000   -0.180000   -0.180000  ...    0.759998   \n",
       "52    0.080000   -0.050003   -0.039997   -0.090001  ...    0.170002   \n",
       "53    0.039997   -0.139998    0.209993    0.520001  ...    0.490002   \n",
       "54   -0.099998    0.430000   -0.049999   -0.330002  ...    0.849998   \n",
       "55   -0.389999    0.590000    0.490000   -0.740000  ...    0.299999   \n",
       "56    0.730000    0.219997   -0.520001   -0.660000  ...    0.790000   \n",
       "57    0.229996   -0.290001    0.139999   -0.540001  ...   -0.170005   \n",
       "58    0.170000    0.070000   -0.020000   -0.010000  ...    0.010000   \n",
       "59    0.030000    0.020001    0.310002   -0.430000  ...   -0.810002   \n",
       "\n",
       "    2013-10-17  2013-10-18  2013-10-21  2013-10-22  2013-10-23  2013-10-24  \\\n",
       "0     4.519997    2.899987    9.590019   -6.540016    5.959976    6.910011   \n",
       "1     0.709999    0.119999   -0.480000    0.010002   -0.279998   -0.190003   \n",
       "2     3.699982    9.570008   -3.450013    4.820008   -4.079986    2.579986   \n",
       "3     2.290001    0.409996   -0.069999    0.100006    0.069999    0.130005   \n",
       "4     2.480003    0.019997   -1.220001    0.480003    3.020004   -0.029999   \n",
       "5     0.210000   -0.050000   -0.010000   -0.030000   -0.240000    0.050000   \n",
       "6     2.250000    0.470001    0.320000   -0.040001   -0.430000   -0.019997   \n",
       "7     0.560002    0.069999    0.119999    0.050003   -0.459999    0.259998   \n",
       "8     0.519996    1.029998   -0.020004    1.290001   -0.390000    1.209999   \n",
       "9     1.520001   -0.320000   -0.500000    1.080002    0.280002    0.620003   \n",
       "10    0.730004   -0.150002   -0.479996    0.000000   -0.529999    0.720001   \n",
       "11   -0.019998    0.099998   -0.180001   -0.340000   -0.350001    0.030001   \n",
       "12    0.419999    0.040001    0.190003    0.500000   -0.160004   -0.110000   \n",
       "13    0.529999   -0.200000    0.000000    0.349998   -0.180000    1.150003   \n",
       "14    0.010000   -0.020000    0.010000   -0.005000   -0.005000    0.010000   \n",
       "15    0.219999    0.010001   -0.090000    0.050001   -0.140000   -0.250000   \n",
       "16    0.300001    0.340000    0.269998   -0.170001   -0.289999    0.100001   \n",
       "17   -4.200020   34.830004   -8.159984    2.000013   30.409929   -6.320089   \n",
       "18    1.840011   -0.149994    1.100006   -1.389999   -0.279999    0.510010   \n",
       "19    0.310002   -0.130001    0.120003    0.160000    0.129997    0.050003   \n",
       "20    1.229996   -0.570000    0.020005   -0.180000    0.540001    1.360001   \n",
       "21    0.349998    0.020001    0.050003    0.100002   -0.090000    0.039997   \n",
       "22    0.259999   -0.050000    0.030001    0.470001   -0.079999    0.100000   \n",
       "23    0.990006   -1.020004   -1.559997    1.619995    0.680008    1.370010   \n",
       "24    0.340000    0.019998    0.199998   -0.100000   -0.190000   -0.080000   \n",
       "25    1.099998   -0.120003   -0.430000    0.830002    0.029998   -0.300004   \n",
       "26    0.419998    0.040001    0.000000   -1.030003   -0.560001   -0.360000   \n",
       "27    1.390009   -0.450002    0.000000    0.539993    2.740000   -0.510002   \n",
       "28    0.489998    0.199997   -0.130001    0.229999    0.009998   -0.350003   \n",
       "29    1.790001   -0.710007   -3.599991    0.460007    1.979996    0.599991   \n",
       "30   11.949997    8.190003    0.819931   -3.080063   -5.029984   10.140000   \n",
       "31    0.279999   -0.500000    0.889999    0.440003   -0.870003    0.269996   \n",
       "32    1.880005   -0.030007    0.459999    0.440002   -0.230003    0.529999   \n",
       "33    0.469997    0.139999    0.010002   -0.439998   -0.590000   -0.099999   \n",
       "34    0.070000    0.020000    0.010000   -0.010000   -0.020000    0.020000   \n",
       "35    0.169998    0.829998   -0.469997    0.010002    0.200000   -0.070000   \n",
       "36    2.220001    0.709999   -1.540001    0.799995    3.059998    1.520004   \n",
       "37    0.150002    0.479996    0.490005    1.010002    0.300003   -0.310006   \n",
       "38    0.529999    0.360000   -0.599998    0.990005    0.060005   -0.870003   \n",
       "39    0.440000    0.319999   -0.069999    0.300001   -0.050000   -0.069999   \n",
       "40    1.229996    0.020005   -0.299996    1.069999    0.570008   -0.159996   \n",
       "41    1.059997    0.080002    0.209999    1.010002    0.720001   -0.470002   \n",
       "42    0.660004    0.310005    0.489998    0.200005   -0.169998   -0.330002   \n",
       "43    0.069999    1.629997   -0.939994    0.800003    0.200005   -0.340004   \n",
       "44   -0.400002    0.890000   -0.640000    1.070000   -0.830002    0.040000   \n",
       "45    0.280001   -0.260000    0.010000    0.020001   -0.149999   -0.060002   \n",
       "46    0.330002    0.310001    0.230000   -0.010003    0.280003    0.030002   \n",
       "47    0.059999    0.199998   -0.080000   -0.310001   -0.349998    0.190001   \n",
       "48    0.650009    0.520004    0.010010   -1.819992   -0.009995    0.220001   \n",
       "49    0.389999    0.030003   -0.219997    0.489998    0.020001   -0.159999   \n",
       "50    0.400000    0.330000    0.029999    0.100001   -0.260001   -0.119999   \n",
       "51    0.370003    0.020000    0.440003    0.099999   -0.270000    0.229999   \n",
       "52    0.289997   -0.029999    0.079998    0.090000   -0.040001   -0.220001   \n",
       "53    1.200000    0.369998    0.490002    0.510002    0.049999   -0.530003   \n",
       "54    1.119999   -0.240002   -0.219997    0.189999    0.080002    0.380001   \n",
       "55    0.639999   -0.040001   -0.020000    0.189999   -0.150002   -0.240001   \n",
       "56    0.290001   -0.090004   -0.569999    0.890000   -0.279998    0.389999   \n",
       "57    0.350006   -0.139999   -0.269997    0.690002    0.090004    0.439995   \n",
       "58    0.140000    0.030000    0.050000   -0.120000   -0.200000   -0.860000   \n",
       "59   -0.139999    0.260002    0.409999   -0.300003   -0.660000   -0.079998   \n",
       "\n",
       "    2013-10-25  2013-10-28  2013-10-29  \n",
       "0    -5.359962    0.840019  -19.589981  \n",
       "1    -0.040001   -0.400002    0.660000  \n",
       "2     4.790009   -1.760009    3.740021  \n",
       "3     1.849999    0.040001    0.540001  \n",
       "4     1.940002    1.130005    0.309998  \n",
       "5     0.110000   -0.060000   -0.110000  \n",
       "6    -0.129998    0.330002    1.150001  \n",
       "7    -0.109999    0.090001   -0.110001  \n",
       "8     0.449997   -0.220001    0.159996  \n",
       "9     0.359996    1.070003    1.050003  \n",
       "10    0.529999   -0.020005    0.139999  \n",
       "11   -0.130001    0.149999    0.170000  \n",
       "12    0.000000    0.350006    0.169998  \n",
       "13   -0.669999   -0.329999   -0.120000  \n",
       "14   -0.010000   -0.010000    0.020000  \n",
       "15   -0.240000   -0.090000    0.040001  \n",
       "16   -0.190001    0.210001    0.019998  \n",
       "17  -13.620034   -0.199995   17.139948  \n",
       "18    2.089996   -0.550003    0.039994  \n",
       "19   -0.010002    0.330002    0.149998  \n",
       "20   -0.300003   -0.090004    1.050003  \n",
       "21   -0.090000   -0.120003   -0.020001  \n",
       "22   -0.080002   -0.130000   -0.120002  \n",
       "23   -1.579987    0.310013    4.500000  \n",
       "24    0.129999    0.180001    0.120000  \n",
       "25    0.049995    0.430000    0.339996  \n",
       "26    0.610000   -0.209999   -0.100002  \n",
       "27    1.509999    1.799993    0.749999  \n",
       "28    0.189999    0.590001    0.229999  \n",
       "29    1.589996   -0.529999    0.260010  \n",
       "30   -1.220016    5.910034   -0.999985  \n",
       "31    0.000000    0.680001    0.430000  \n",
       "32    1.369995    0.790001    0.199997  \n",
       "33   -0.150001   -0.040001   -0.110001  \n",
       "34    0.020000   -0.010000    0.040000  \n",
       "35   -0.270000    0.350002   -0.139999  \n",
       "36    1.090004   -0.229995    0.419999  \n",
       "37   -0.240006    0.050003   -0.239997  \n",
       "38    0.799995    1.250000    0.739998  \n",
       "39    0.130001    0.289999    0.410000  \n",
       "40   -0.550003    1.190002    1.000000  \n",
       "41    0.830001    1.169999    0.260003  \n",
       "42   -0.290001    0.020004   -0.220001  \n",
       "43   -0.360001   -0.229996   -0.670006  \n",
       "44    0.430001    0.139999    0.760002  \n",
       "45    0.010000    0.010000   -0.030000  \n",
       "46    0.190003    0.170002   -0.160004  \n",
       "47    0.240000   -0.039999    0.080000  \n",
       "48   -0.119996   -0.630005    0.449997  \n",
       "49   -0.500000    0.180000    0.000000  \n",
       "50    0.090000    0.020001    0.079999  \n",
       "51    0.279999    0.879997    0.349998  \n",
       "52    0.070000    0.400002    0.149998  \n",
       "53   -0.040001   -0.180000    0.369999  \n",
       "54   -0.050003   -0.130001    0.410000  \n",
       "55    0.220002    0.000000   -0.049999  \n",
       "56   -0.290001    0.979995   -0.190002  \n",
       "57   -0.260002    0.400001    0.480003  \n",
       "58   -0.030000    0.020000   -0.030000  \n",
       "59   -0.060001    0.259998    0.099998  \n",
       "\n",
       "[60 rows x 963 columns]>"
      ]
     },
     "execution_count": 18,
     "metadata": {},
     "output_type": "execute_result"
    }
   ],
   "source": [
    "movements.reset_index(drop=True, inplace=True)\n",
    "movements.to_numpy"
   ]
  },
  {
   "cell_type": "code",
   "execution_count": 19,
   "metadata": {},
   "outputs": [
    {
     "data": {
      "text/plain": [
       "Pipeline(steps=[('normalizer', Normalizer()),\n",
       "                ('kmeans', KMeans(n_clusters=10))])"
      ]
     },
     "execution_count": 19,
     "metadata": {},
     "output_type": "execute_result"
    }
   ],
   "source": [
    "# Import Normalizer\n",
    "from sklearn.preprocessing import Normalizer\n",
    "\n",
    "# Create a normalizer: normalizer\n",
    "normalizer = Normalizer()\n",
    "\n",
    "# Create a KMeans model with 10 clusters: kmeans\n",
    "kmeans = KMeans(n_clusters=10)\n",
    "\n",
    "# Make a pipeline chaining normalizer and kmeans: pipeline\n",
    "pipeline = make_pipeline(normalizer, kmeans)\n",
    "\n",
    "# Fit pipeline to the daily price movements\n",
    "pipeline.fit(movements)\n"
   ]
  },
  {
   "cell_type": "code",
   "execution_count": 20,
   "metadata": {},
   "outputs": [],
   "source": [
    "companies=['Apple','AIG','Amazon','American express','Boeing','Bank of America','British American Tobacco','Canon','Caterpillar','Colgate-Palmolive','ConocoPhillips','Cisco','Chevron','DuPont de Nemours','Dell','Ford','General Electrics','Google/Alphabet','Goldman Sachs','GlaxoSmithKline','Home Depot','Honda','HP','IBM','Intel','Johnson & Johnson','JPMorgan Chase','Kimberly-Clark','Coca Cola','Lookheed Martin','MasterCard','McDonalds','3M','Microsoft','Mitsubishi','Navistar','Northrop Grumman','Novartis','Pepsi','Pfizer','Procter Gamble','Philip Morris','Royal Dutch Shell','SAP','Schlumberger','Sony','Sanofi-Aventis','Symantec','Toyota','Total','Taiwan Semiconductor Manufacturing','Texas instruments','Unilever','Valero Energy','Walgreen','Wells Fargo','Wal-Mart','Exxon','Xerox','Yahoo']"
   ]
  },
  {
   "cell_type": "markdown",
   "metadata": {},
   "source": [
    "### Which stocks move together?"
   ]
  },
  {
   "cell_type": "code",
   "execution_count": 21,
   "metadata": {
    "scrolled": true
   },
   "outputs": [
    {
     "name": "stdout",
     "output_type": "stream",
     "text": [
      "    labels                           companies\n",
      "23       0                                 IBM\n",
      "57       0                               Exxon\n",
      "53       0                       Valero Energy\n",
      "31       0                           McDonalds\n",
      "49       0                               Total\n",
      "39       0                              Pfizer\n",
      "42       0                   Royal Dutch Shell\n",
      "44       0                        Schlumberger\n",
      "43       0                                 SAP\n",
      "10       0                      ConocoPhillips\n",
      "12       0                             Chevron\n",
      "33       1                           Microsoft\n",
      "11       1                               Cisco\n",
      "24       1                               Intel\n",
      "36       2                    Northrop Grumman\n",
      "4        2                              Boeing\n",
      "29       2                     Lookheed Martin\n",
      "46       3                      Sanofi-Aventis\n",
      "6        3            British American Tobacco\n",
      "37       3                            Novartis\n",
      "52       3                            Unilever\n",
      "19       3                     GlaxoSmithKline\n",
      "30       4                          MasterCard\n",
      "59       4                               Yahoo\n",
      "3        4                    American express\n",
      "20       4                          Home Depot\n",
      "2        4                              Amazon\n",
      "17       4                     Google/Alphabet\n",
      "26       5                      JPMorgan Chase\n",
      "1        5                                 AIG\n",
      "18       5                       Goldman Sachs\n",
      "55       5                         Wells Fargo\n",
      "5        5                     Bank of America\n",
      "16       5                   General Electrics\n",
      "15       5                                Ford\n",
      "41       6                       Philip Morris\n",
      "9        6                   Colgate-Palmolive\n",
      "40       6                      Procter Gamble\n",
      "54       6                            Walgreen\n",
      "56       6                            Wal-Mart\n",
      "28       6                           Coca Cola\n",
      "27       6                      Kimberly-Clark\n",
      "25       6                   Johnson & Johnson\n",
      "38       6                               Pepsi\n",
      "51       7                   Texas instruments\n",
      "50       7  Taiwan Semiconductor Manufacturing\n",
      "47       7                            Symantec\n",
      "0        7                               Apple\n",
      "8        7                         Caterpillar\n",
      "13       7                   DuPont de Nemours\n",
      "35       7                            Navistar\n",
      "32       7                                  3M\n",
      "22       8                                  HP\n",
      "14       8                                Dell\n",
      "48       9                              Toyota\n",
      "45       9                                Sony\n",
      "34       9                          Mitsubishi\n",
      "58       9                               Xerox\n",
      "7        9                               Canon\n",
      "21       9                               Honda\n"
     ]
    }
   ],
   "source": [
    "# Import pandas\n",
    "import pandas as pd\n",
    "\n",
    "# Predict the cluster labels: labels\n",
    "labels = pipeline.predict(movements)\n",
    "\n",
    "# Create a DataFrame aligning labels and companies: df\n",
    "df = pd.DataFrame({'labels': labels, 'companies': companies})\n",
    "\n",
    "# Display df sorted by cluster label\n",
    "print(df.sort_values('labels'))"
   ]
  },
  {
   "cell_type": "markdown",
   "metadata": {},
   "source": [
    "### Hierarchical clustering of the grain data"
   ]
  },
  {
   "cell_type": "code",
   "execution_count": null,
   "metadata": {},
   "outputs": [],
   "source": [
    "# Perform the necessary imports\n",
    "from scipy.cluster.hierarchy import linkage, dendrogram\n",
    "import matplotlib.pyplot as plt\n",
    "\n",
    "# Calculate the linkage: mergings\n",
    "mergings = linkage(samples, method='complete')\n",
    "\n",
    "# Plot the dendrogram, using varieties as labels\n",
    "dendrogram(mergings,\n",
    "           labels=varieties,\n",
    "           leaf_rotation=90,\n",
    "           leaf_font_size=6,\n",
    ")\n",
    "plt.show()\n"
   ]
  },
  {
   "cell_type": "markdown",
   "metadata": {},
   "source": [
    "### Hierarchies of stocks"
   ]
  },
  {
   "cell_type": "code",
   "execution_count": 23,
   "metadata": {},
   "outputs": [
    {
     "data": {
      "image/png": "[encoded data removed]",
      "text/plain": [
       "<Figure size 432x288 with 1 Axes>"
      ]
     },
     "metadata": {
      "needs_background": "light"
     },
     "output_type": "display_data"
    }
   ],
   "source": [
    "# Import normalize\n",
    "from sklearn.preprocessing import normalize\n",
    "\n",
    "# Normalize the movements: normalized_movements\n",
    "normalized_movements = normalize(movements)\n",
    "\n",
    "# Calculate the linkage: mergings\n",
    "mergings = linkage(normalized_movements, method='complete')\n",
    "\n",
    "# Plot the dendrogram\n",
    "dendrogram(\n",
    "    mergings,\n",
    "    labels=companies,\n",
    "    leaf_rotation=90,\n",
    "    leaf_font_size=6\n",
    "    )\n",
    "plt.show()"
   ]
  },
  {
   "cell_type": "markdown",
   "metadata": {},
   "source": [
    "### **Different linkage, different hierarchical clustering!**"
   ]
  },
  {
   "cell_type": "code",
   "execution_count": null,
   "metadata": {},
   "outputs": [],
   "source": [
    "# Perform the necessary imports\n",
    "import matplotlib.pyplot as plt\n",
    "from scipy.cluster.hierarchy import linkage, dendrogram\n",
    "\n",
    "# Calculate the linkage: mergings\n",
    "mergings = linkage(samples, method='single')\n",
    "\n",
    "# Plot the dendrogram\n",
    "dendrogram(\n",
    "    mergings,\n",
    "    labels=country_names,\n",
    "    leaf_rotation=90,\n",
    "    leaf_font_size=6\n",
    "    )\n",
    "plt.show()\n"
   ]
  },
  {
   "cell_type": "markdown",
   "metadata": {},
   "source": [
    "### **Extracting the cluster labels**"
   ]
  },
  {
   "cell_type": "code",
   "execution_count": null,
   "metadata": {},
   "outputs": [],
   "source": [
    "# Perform the necessary imports\n",
    "import pandas as pd\n",
    "from scipy.cluster.hierarchy import fcluster\n",
    "\n",
    "# Use fcluster to extract labels: labels\n",
    "labels = fcluster(mergings, 6, criterion='distance')\n",
    "\n",
    "# Create a DataFrame with labels and varieties as columns: df\n",
    "df = pd.DataFrame({'labels': labels, 'varieties': varieties})\n",
    "\n",
    "# Create crosstab: ct\n",
    "ct = pd.crosstab(df['labels'], df['varieties'])\n",
    "\n",
    "# Display ct\n",
    "print(ct)\n"
   ]
  },
  {
   "cell_type": "markdown",
   "metadata": {},
   "source": [
    "### **t-SNE visualization of grain dataset**"
   ]
  },
  {
   "cell_type": "code",
   "execution_count": null,
   "metadata": {},
   "outputs": [],
   "source": [
    "# Import TSNE\n",
    "from sklearn.manifold import TSNE\n",
    "\n",
    "# Create a TSNE instance: model\n",
    "model = TSNE(learning_rate=200)\n",
    "\n",
    "# Apply fit_transform to samples: tsne_features\n",
    "tsne_features = model.fit_transform(samples)\n",
    "\n",
    "# Select the 0th feature: xs\n",
    "xs = tsne_features[:,0]\n",
    "\n",
    "# Select the 1st feature: ys\n",
    "ys = tsne_features[:,1]\n",
    "\n",
    "# Scatter plot, coloring by variety_numbers\n",
    "plt.scatter(xs, ys, c=variety_numbers)\n",
    "plt.show()"
   ]
  },
  {
   "cell_type": "markdown",
   "metadata": {},
   "source": [
    "### **A t-SNE map of the stock market**"
   ]
  },
  {
   "cell_type": "code",
   "execution_count": 26,
   "metadata": {},
   "outputs": [
    {
     "data": {
      "image/png": "[encoded data removed]",
      "text/plain": [
       "<Figure size 432x288 with 1 Axes>"
      ]
     },
     "metadata": {
      "needs_background": "light"
     },
     "output_type": "display_data"
    }
   ],
   "source": [
    "# Import TSNE\n",
    "from sklearn.manifold import TSNE\n",
    "\n",
    "# Create a TSNE instance: model\n",
    "model = TSNE(learning_rate=50)\n",
    "\n",
    "# Apply fit_transform to normalized_movements: tsne_features\n",
    "tsne_features = model.fit_transform(normalized_movements)\n",
    "\n",
    "# Select the 0th feature: xs\n",
    "xs = tsne_features[:,0]\n",
    "\n",
    "# Select the 1th feature: ys\n",
    "ys = tsne_features[:,1]\n",
    "\n",
    "# Scatter plot\n",
    "plt.scatter(xs, ys, alpha=0.5)\n",
    "\n",
    "# Annotate the points\n",
    "for x, y, company in zip(xs, ys, companies):\n",
    "    plt.annotate(company, (x, y), fontsize=5, alpha=0.75)\n",
    "plt.show()\n"
   ]
  },
  {
   "cell_type": "markdown",
   "metadata": {},
   "source": [
    "## **Correlated data in nature**"
   ]
  },
  {
   "cell_type": "code",
   "execution_count": 27,
   "metadata": {},
   "outputs": [],
   "source": [
    "#an array grains giving the width and length of samples of grain.\n",
    "grains=np.array([[3.312, 5.763],\n",
    "       [3.333, 5.554],\n",
    "       [3.337, 5.291],\n",
    "       [3.379, 5.324],\n",
    "       [3.562, 5.658],\n",
    "       [3.312, 5.386],\n",
    "       [3.259, 5.563],\n",
    "       [3.302, 5.42 ],\n",
    "       [3.465, 6.053],\n",
    "       [3.505, 5.884],\n",
    "       [3.242, 5.714],\n",
    "       [3.201, 5.438],\n",
    "       [3.199, 5.439],\n",
    "       [3.156, 5.479],\n",
    "       [3.114, 5.482],\n",
    "       [3.333, 5.351],\n",
    "       [3.383, 5.119],\n",
    "       [3.514, 5.527],\n",
    "       [3.466, 5.205],\n",
    "       [3.049, 5.226],\n",
    "       [3.129, 5.658],\n",
    "       [3.168, 5.52 ],\n",
    "       [3.507, 5.618],\n",
    "       [2.936, 5.099],\n",
    "       [3.245, 5.789],\n",
    "       [3.421, 5.833],\n",
    "       [3.026, 5.395],\n",
    "       [2.956, 5.395],\n",
    "       [3.221, 5.541],\n",
    "       [3.065, 5.516],\n",
    "       [2.975, 5.454],\n",
    "       [3.371, 5.757],\n",
    "       [3.186, 5.717],\n",
    "       [3.15 , 5.585],\n",
    "       [3.328, 5.712],\n",
    "       [3.485, 5.709],\n",
    "       [3.464, 5.826],\n",
    "       [3.683, 5.832],\n",
    "       [3.288, 5.656],\n",
    "       [3.298, 5.397],\n",
    "       [3.156, 5.348],\n",
    "       [3.158, 5.351],\n",
    "       [3.201, 5.138],\n",
    "       [3.396, 5.877],\n",
    "       [3.462, 5.579],\n",
    "       [3.155, 5.376],\n",
    "       [3.393, 5.701],\n",
    "       [3.377, 5.57 ],\n",
    "       [3.291, 5.545],\n",
    "       [3.258, 5.678],\n",
    "       [3.272, 5.585],\n",
    "       [3.434, 5.674],\n",
    "       [3.113, 5.715],\n",
    "       [3.199, 5.504],\n",
    "       [3.113, 5.741],\n",
    "       [3.212, 5.702],\n",
    "       [3.377, 5.388],\n",
    "       [3.412, 5.384],\n",
    "       [3.419, 5.662],\n",
    "       [3.032, 5.159],\n",
    "       [2.85 , 5.008],\n",
    "       [2.879, 4.902],\n",
    "       [3.042, 5.076],\n",
    "       [3.07 , 5.395],\n",
    "       [3.026, 5.262],\n",
    "       [3.119, 5.139],\n",
    "       [3.19 , 5.63 ],\n",
    "       [3.158, 5.609],\n",
    "       [3.153, 5.569],\n",
    "       [2.882, 5.412],\n",
    "       [3.561, 6.191],\n",
    "       [3.484, 5.998],\n",
    "       [3.594, 5.978],\n",
    "       [3.93 , 6.154],\n",
    "       [3.486, 6.017],\n",
    "       [3.438, 5.927],\n",
    "       [3.403, 6.064],\n",
    "       [3.814, 6.579],\n",
    "       [3.639, 6.445],\n",
    "       [3.566, 5.85 ],\n",
    "       [3.467, 5.875],\n",
    "       [3.857, 6.006],\n",
    "       [3.864, 6.285],\n",
    "       [3.772, 6.384],\n",
    "       [3.801, 6.366],\n",
    "       [3.651, 6.173],\n",
    "       [3.764, 6.084],\n",
    "       [3.67 , 6.549],\n",
    "       [4.033, 6.573],\n",
    "       [4.032, 6.45 ],\n",
    "       [3.785, 6.581],\n",
    "       [3.796, 6.172],\n",
    "       [3.693, 6.272],\n",
    "       [3.86 , 6.037],\n",
    "       [3.485, 6.666],\n",
    "       [3.463, 6.139],\n",
    "       [3.81 , 6.341],\n",
    "       [3.552, 6.449],\n",
    "       [3.512, 6.271],\n",
    "       [3.684, 6.219],\n",
    "       [3.525, 5.718],\n",
    "       [3.694, 5.89 ],\n",
    "       [3.892, 6.113],\n",
    "       [3.681, 6.369],\n",
    "       [3.755, 6.248],\n",
    "       [3.786, 6.037],\n",
    "       [3.806, 6.152],\n",
    "       [3.573, 6.033],\n",
    "       [3.763, 6.675],\n",
    "       [3.674, 6.153],\n",
    "       [3.769, 6.107],\n",
    "       [3.791, 6.303],\n",
    "       [3.902, 6.183],\n",
    "       [3.737, 6.259],\n",
    "       [3.991, 6.563],\n",
    "       [3.719, 6.416],\n",
    "       [3.897, 6.051],\n",
    "       [3.815, 6.245],\n",
    "       [3.769, 6.227],\n",
    "       [3.857, 6.493],\n",
    "       [3.962, 6.315],\n",
    "       [3.563, 6.059],\n",
    "       [3.387, 5.762],\n",
    "       [3.771, 5.98 ],\n",
    "       [3.582, 5.363],\n",
    "       [3.869, 6.111],\n",
    "       [3.594, 6.285],\n",
    "       [3.687, 5.979],\n",
    "       [3.773, 6.513],\n",
    "       [3.69 , 5.791],\n",
    "       [3.755, 5.979],\n",
    "       [3.825, 6.144],\n",
    "       [3.268, 5.884],\n",
    "       [3.395, 5.845],\n",
    "       [3.408, 5.776],\n",
    "       [3.465, 5.477],\n",
    "       [3.574, 6.145],\n",
    "       [3.231, 5.92 ],\n",
    "       [3.286, 5.832],\n",
    "       [3.472, 5.872],\n",
    "       [2.994, 5.472],\n",
    "       [3.073, 5.541],\n",
    "       [3.074, 5.389],\n",
    "       [2.967, 5.224],\n",
    "       [2.777, 5.314],\n",
    "       [2.687, 5.279],\n",
    "       [2.719, 5.176],\n",
    "       [2.967, 5.267],\n",
    "       [2.911, 5.386],\n",
    "       [2.648, 5.317],\n",
    "       [2.84 , 5.263],\n",
    "       [2.776, 5.405],\n",
    "       [2.833, 5.408],\n",
    "       [2.693, 5.22 ],\n",
    "       [2.755, 5.175],\n",
    "       [2.675, 5.25 ],\n",
    "       [2.849, 5.053],\n",
    "       [2.745, 5.394],\n",
    "       [2.678, 5.444],\n",
    "       [2.695, 5.304],\n",
    "       [2.879, 5.451],\n",
    "       [2.81 , 5.35 ],\n",
    "       [2.847, 5.267],\n",
    "       [2.968, 5.333],\n",
    "       [2.794, 5.011],\n",
    "       [2.941, 5.105],\n",
    "       [2.897, 5.319],\n",
    "       [2.837, 5.417],\n",
    "       [2.668, 5.176],\n",
    "       [2.715, 5.09 ],\n",
    "       [2.701, 5.325],\n",
    "       [2.845, 5.167],\n",
    "       [2.763, 5.088],\n",
    "       [2.763, 5.136],\n",
    "       [2.641, 5.278],\n",
    "       [2.821, 4.981],\n",
    "       [2.71 , 5.186],\n",
    "       [2.642, 5.145],\n",
    "       [2.758, 5.18 ],\n",
    "       [2.893, 5.357],\n",
    "       [2.775, 5.09 ],\n",
    "       [3.017, 5.236],\n",
    "       [2.909, 5.24 ],\n",
    "       [2.85 , 5.108],\n",
    "       [3.026, 5.495],\n",
    "       [2.683, 5.363],\n",
    "       [2.716, 5.413],\n",
    "       [2.675, 5.088],\n",
    "       [2.821, 5.089],\n",
    "       [2.787, 4.899],\n",
    "       [2.717, 5.046],\n",
    "       [2.804, 5.091],\n",
    "       [2.953, 5.132],\n",
    "       [2.63 , 5.18 ],\n",
    "       [2.975, 5.236],\n",
    "       [3.126, 5.16 ],\n",
    "       [3.054, 5.224],\n",
    "       [3.128, 5.32 ],\n",
    "       [2.911, 5.41 ],\n",
    "       [3.155, 5.073],\n",
    "       [2.989, 5.219],\n",
    "       [3.135, 4.984],\n",
    "       [2.81 , 5.009],\n",
    "       [3.091, 5.183],\n",
    "       [2.96 , 5.204],\n",
    "       [2.981, 5.137],\n",
    "       [2.795, 5.14 ],\n",
    "       [3.232, 5.236],\n",
    "       [2.836, 5.175],\n",
    "       [2.974, 5.243]])"
   ]
  },
  {
   "cell_type": "code",
   "execution_count": 28,
   "metadata": {},
   "outputs": [
    {
     "data": {
      "image/png": "[encoded data removed]",
      "text/plain": [
       "<Figure size 432x288 with 1 Axes>"
      ]
     },
     "metadata": {
      "needs_background": "light"
     },
     "output_type": "display_data"
    },
    {
     "name": "stdout",
     "output_type": "stream",
     "text": [
      "0.8604149377143469\n"
     ]
    }
   ],
   "source": [
    "# Perform the necessary imports\n",
    "import matplotlib.pyplot as plt\n",
    "from scipy.stats import pearsonr\n",
    "\n",
    "# Assign the 0th column of grains: width\n",
    "width = grains[:,0]\n",
    "\n",
    "# Assign the 1st column of grains: length\n",
    "length = grains[:,1]\n",
    "\n",
    "# Scatter plot width vs length\n",
    "plt.scatter(width, length)\n",
    "plt.axis('equal')\n",
    "plt.show()\n",
    "\n",
    "# Calculate the Pearson correlation\n",
    "correlation, pvalue = pearsonr(width, length)\n",
    "\n",
    "# Display the correlation\n",
    "print(correlation)\n"
   ]
  },
  {
   "cell_type": "markdown",
   "metadata": {},
   "source": [
    "### **Decorrelating the grain measurements with PCA**\n",
    "- use PCA to decorrelate these measurements, then plot the decorrelated points and measure their Pearson correlation"
   ]
  },
  {
   "cell_type": "code",
   "execution_count": 29,
   "metadata": {},
   "outputs": [
    {
     "data": {
      "image/png": "[encoded data removed]",
      "text/plain": [
       "<Figure size 432x288 with 1 Axes>"
      ]
     },
     "metadata": {
      "needs_background": "light"
     },
     "output_type": "display_data"
    },
    {
     "name": "stdout",
     "output_type": "stream",
     "text": [
      "4.85722573273506e-17\n"
     ]
    }
   ],
   "source": [
    "# Import PCA\n",
    "from sklearn.decomposition import PCA\n",
    "\n",
    "# Create PCA instance: model\n",
    "model = PCA()\n",
    "\n",
    "# Apply the fit_transform method of model to grains: pca_features\n",
    "pca_features = model.fit_transform(grains)\n",
    "\n",
    "# Assign 0th column of pca_features: xs\n",
    "xs = pca_features[:,0]\n",
    "\n",
    "# Assign 1st column of pca_features: ys\n",
    "ys = pca_features[:,1]\n",
    "\n",
    "# Scatter plot xs vs ys\n",
    "plt.scatter(xs, ys)\n",
    "plt.axis('equal')\n",
    "plt.show()\n",
    "\n",
    "# Calculate the Pearson correlation of xs and ys\n",
    "correlation, pvalue = pearsonr(xs, ys)\n",
    "\n",
    "# Display the correlation\n",
    "print(correlation)"
   ]
  },
  {
   "cell_type": "markdown",
   "metadata": {},
   "source": [
    "### **The first principal component**"
   ]
  },
  {
   "cell_type": "code",
   "execution_count": 30,
   "metadata": {},
   "outputs": [
    {
     "data": {
      "image/png": "[encoded data removed]",
      "text/plain": [
       "<Figure size 432x288 with 1 Axes>"
      ]
     },
     "metadata": {
      "needs_background": "light"
     },
     "output_type": "display_data"
    }
   ],
   "source": [
    "# Make a scatter plot of the untransformed points\n",
    "plt.scatter(grains[:,0], grains[:,1])\n",
    "\n",
    "# Create a PCA instance: model\n",
    "model = PCA()\n",
    "\n",
    "# Fit model to points\n",
    "model.fit(grains)\n",
    "\n",
    "# Get the mean of the grain samples: mean\n",
    "mean = model.mean_\n",
    "\n",
    "# Get the first principal component: first_pc\n",
    "first_pc = model.components_[0,:]\n",
    "\n",
    "# Plot first_pc as an arrow, starting at mean\n",
    "plt.arrow(mean[0], mean[1], first_pc[0], first_pc[1], color='red', width=0.01)\n",
    "\n",
    "# Keep axes on same scale\n",
    "plt.axis('equal')\n",
    "plt.show()"
   ]
  },
  {
   "cell_type": "markdown",
   "metadata": {},
   "source": [
    "### **Variance of the PCA features**"
   ]
  },
  {
   "cell_type": "code",
   "execution_count": 31,
   "metadata": {},
   "outputs": [
    {
     "data": {
      "image/png": "[encoded data removed]",
      "text/plain": [
       "<Figure size 432x288 with 1 Axes>"
      ]
     },
     "metadata": {
      "needs_background": "light"
     },
     "output_type": "display_data"
    }
   ],
   "source": [
    "# Perform the necessary imports\n",
    "from sklearn.decomposition import PCA\n",
    "from sklearn.preprocessing import StandardScaler\n",
    "from sklearn.pipeline import make_pipeline\n",
    "import matplotlib.pyplot as plt\n",
    "\n",
    "# Create scaler: scaler\n",
    "scaler = StandardScaler()\n",
    "\n",
    "# Create a PCA instance: pca\n",
    "pca = PCA()\n",
    "\n",
    "# Create pipeline: pipeline\n",
    "pipeline = make_pipeline(scaler, pca)\n",
    "\n",
    "# Fit the pipeline to 'samples'\n",
    "pipeline.fit(samples)\n",
    "\n",
    "# Plot the explained variances\n",
    "features = range(pca.n_components_)\n",
    "plt.bar(features, pca.explained_variance_)\n",
    "plt.xlabel('PCA feature')\n",
    "plt.ylabel('variance')\n",
    "plt.xticks(features)\n",
    "plt.show()\n"
   ]
  },
  {
   "cell_type": "code",
   "execution_count": 32,
   "metadata": {},
   "outputs": [],
   "source": [
    "##scaled fish measurements \n",
    "scaled_samples=np.array([[-0.50109735, -0.36878558, -0.34323399, -0.23781518,  1.0032125 ,\n",
    "         0.25373964],\n",
    "       [-0.37434344, -0.29750241, -0.26893461, -0.14634781,  1.15869615,\n",
    "         0.44376493],\n",
    "       [-0.24230812, -0.30641281, -0.25242364, -0.15397009,  1.13926069,\n",
    "         1.0613471 ],\n",
    "       [-0.18157187, -0.09256329, -0.04603648,  0.02896467,  0.96434159,\n",
    "         0.20623332],\n",
    "       [-0.00464454, -0.0747425 , -0.04603648,  0.06707608,  0.8282934 ,\n",
    "         1.0613471 ],\n",
    "       [ 0.04816959, -0.04801131,  0.01175193,  0.12043205,  1.08095432,\n",
    "         0.63379021],\n",
    "       [ 0.18020491, -0.04801131,  0.01175193,  0.10518748,  1.26559115,\n",
    "         1.15635974],\n",
    "       [-0.11027279,  0.02327186,  0.03651839,  0.14329889,  0.78942248,\n",
    "         0.25373964],\n",
    "       [ 0.04816959,  0.02327186,  0.03651839,  0.15092117,  1.14897842,\n",
    "         0.44376493],\n",
    "       [ 0.18020491,  0.10346543,  0.09430679,  0.23476627,  1.09067205,\n",
    "         0.39625861],\n",
    "       [ 0.11418725,  0.09455503,  0.11907325,  0.23476627,  1.10038978,\n",
    "         0.58628389],\n",
    "       [ 0.18020491,  0.12128622,  0.11907325,  0.23476627,  1.12954296,\n",
    "         0.20623332],\n",
    "       [ 0.18020491,  0.1569278 ,  0.16035069,  0.25001083,  0.94490613,\n",
    "        -0.41134885],\n",
    "       [ 0.44427556,  0.18365899,  0.20162812,  0.31098909,  1.1781316 ,\n",
    "         0.49127125],\n",
    "       [ 0.44427556,  0.18365899,  0.20162812,  0.31098909,  1.30446206,\n",
    "         1.01384078],\n",
    "       [ 0.7083462 ,  0.27276296,  0.28418298,  0.39483418,  1.04208341,\n",
    "         0.44376493],\n",
    "       [ 0.7083462 ,  0.27276296,  0.28418298,  0.41007875,  1.04208341,\n",
    "         0.30124596],\n",
    "       [ 0.47068262,  0.31731494,  0.32546042,  0.41770103,  1.20728478,\n",
    "         0.20623332],\n",
    "       [ 0.57631088,  0.32622533,  0.32546042,  0.42532331,  0.90603522,\n",
    "         0.91882813],\n",
    "       [ 0.3782579 ,  0.35295652,  0.36673785,  0.48630156,  0.99349477,\n",
    "         0.58628389],\n",
    "       [ 0.66873561,  0.36186692,  0.36673785,  0.46343472,  1.23643797,\n",
    "         0.39625861],\n",
    "       [ 0.49708969,  0.37077732,  0.40801528,  0.50154612,  1.07123659,\n",
    "         0.20623332],\n",
    "       [ 0.65553208,  0.3975085 ,  0.44929271,  0.57014666,  0.97405931,\n",
    "         1.0613471 ],\n",
    "       [ 0.7083462 ,  0.4064189 ,  0.44929271,  0.56252438,  1.16841387,\n",
    "         0.44376493],\n",
    "       [ 0.77436387,  0.3975085 ,  0.44929271,  0.5930135 ,  1.15869615,\n",
    "         0.91882813],\n",
    "       [ 0.76116033,  0.4153293 ,  0.44929271,  0.57014666,  1.18784933,\n",
    "         1.01384078],\n",
    "       [ 0.74531609,  0.47770207,  0.53184758,  0.63874719,  1.13926069,\n",
    "         0.58628389],\n",
    "       [ 1.10445217,  0.48661247,  0.53184758,  0.64636947,  1.21700251,\n",
    "         0.96633446],\n",
    "       [ 1.50055814,  0.54898524,  0.61440245,  0.72259229,  1.5959939 ,\n",
    "         1.25137238],\n",
    "       [ 1.28930162,  0.68264119,  0.73823474,  0.83692651,  1.2461557 ,\n",
    "         0.68129653],\n",
    "       [ 1.38172635,  0.68264119,  0.73823474,  0.82930423,  1.26559115,\n",
    "         0.68129653],\n",
    "       [ 1.30250516,  0.78956594,  0.82078961,  0.92839389,  1.29474434,\n",
    "         0.96633446],\n",
    "       [ 1.43454048,  0.8964907 ,  0.94462191,  0.97412758,  1.21700251,\n",
    "         0.87132181],\n",
    "       [ 1.36852282,  0.94995308,  0.94462191,  1.01986127,  0.95462386,\n",
    "         0.39625861],\n",
    "       [-1.03452005, -1.2865564 , -1.27610397, -1.28969003, -0.24065667,\n",
    "         0.53877757],\n",
    "       [-0.95793956, -0.96578213, -0.93762902, -0.97717649, -0.19206803,\n",
    "         0.49127125],\n",
    "       [-0.93417321, -0.87667817, -0.8880961 , -0.90857596, -0.17263258,\n",
    "         0.39625861],\n",
    "       [-0.91040685, -0.8143054 , -0.80554124, -0.83235314, -0.26980986,\n",
    "         0.68129653],\n",
    "       [-0.82326354, -0.77866381, -0.78903027, -0.83235314, -0.0074312 ,\n",
    "         1.5364103 ],\n",
    "       [-1.14014831, -0.74302223, -0.74775283, -0.78661945,  0.03143971,\n",
    "         0.87132181],\n",
    "       [-0.8496706 , -0.73411183, -0.72298637, -0.76375261, -0.13376167,\n",
    "         0.87132181],\n",
    "       [-0.82326354, -0.70738064, -0.7064754 , -0.71801892, -0.22122122,\n",
    "         0.49127125],\n",
    "       [-0.74404234, -0.61827668, -0.62392054, -0.6417961 , -0.44472896,\n",
    "         1.10885342],\n",
    "       [-0.75724587, -0.60936628, -0.62392054, -0.67228523, -0.0754553 ,\n",
    "         0.82381549],\n",
    "       [-0.71763528, -0.60936628, -0.5826431 , -0.59606241, -0.02686666,\n",
    "         1.0613471 ],\n",
    "       [-0.77044941, -0.5648143 , -0.5826431 , -0.61892926, -0.18235031,\n",
    "         0.20623332],\n",
    "       [-0.71763528, -0.5559039 , -0.5826431 , -0.61892926, -0.24065667,\n",
    "         1.10885342],\n",
    "       [-0.69386892, -0.47571034, -0.4588108 , -0.45123907, -0.03658439,\n",
    "         0.58628389],\n",
    "       [-0.71499457, -0.47571034, -0.50834372, -0.48935047, -0.21150349,\n",
    "         0.34875228],\n",
    "       [-0.61200702, -0.46679994, -0.50008824, -0.48172819, -0.04630212,\n",
    "         1.20386606],\n",
    "       [-0.66482115, -0.33314399, -0.35974497, -0.39788309, -0.26009213,\n",
    "         0.53877757],\n",
    "       [-0.37434344, -0.29750241, -0.29370107, -0.29879344,  0.22579427,\n",
    "         1.20386606],\n",
    "       [-0.42187616, -0.20839845, -0.21114621, -0.19208149, -0.0074312 ,\n",
    "         1.2988787 ],\n",
    "       [-0.11027279,  0.19256939,  0.17686166,  0.14329889, -0.09489075,\n",
    "         1.15635974],\n",
    "       [-1.12245558, -1.60733067, -1.63108989, -1.70129323, -1.16384082,\n",
    "        -1.50399423],\n",
    "       [-1.12034301, -1.5449579 , -1.57330149, -1.64031498, -1.07638127,\n",
    "        -1.36147526],\n",
    "       [-1.12166336, -1.5360475 , -1.565046  , -1.64031498, -1.28045356,\n",
    "        -1.40898159],\n",
    "       [-1.11453346, -1.50931631, -1.53202405, -1.60982586, -0.95005081,\n",
    "        -0.64888045],\n",
    "       [-1.11426939, -1.48258512, -1.51551308, -1.57933673, -1.09581673,\n",
    "        -1.2189563 ],\n",
    "       [-1.11717416, -1.47367473, -1.5072576 , -1.56409217, -1.20271174,\n",
    "        -1.26646262],\n",
    "       [-1.11374125, -1.42912274, -1.46598016, -1.52598076, -1.086099  ,\n",
    "        -1.45648791],\n",
    "       [-1.11400532, -1.42912274, -1.46598016, -1.52598076, -1.086099  ,\n",
    "        -1.88404479],\n",
    "       [-1.11426939, -1.42021235, -1.44946919, -1.51835848, -1.10553446,\n",
    "        -1.97905744],\n",
    "       [-1.10793169, -1.41130195, -1.43295822, -1.50311391, -1.21242946,\n",
    "        -1.17144998],\n",
    "       [-1.10476284, -1.39348116, -1.41644724, -1.49549163, -0.97920399,\n",
    "        -1.64651319],\n",
    "       [-1.10793169, -1.35783957, -1.36691432, -1.47262479, -1.12496991,\n",
    "        -1.78903215],\n",
    "       [-1.08812639, -1.25982521, -1.259593  , -1.36591285, -0.89174444,\n",
    "         0.34875228],\n",
    "       [-1.08759825, -1.20636284, -1.20180459, -1.28969003, -0.96948627,\n",
    "        -0.60137413],\n",
    "       [-0.61200702,  0.23712137,  0.22639458,  0.12805433, -1.17355855,\n",
    "        -1.50399423],\n",
    "       [-0.34793638,  0.38859811,  0.36673785,  0.35672277, -1.2610181 ,\n",
    "        -0.88641206],\n",
    "       [-0.34793638,  0.47770207,  0.44929271,  0.43294559, -1.24158265,\n",
    "        -0.74389309],\n",
    "       [-0.34793638,  0.6648204 ,  0.6391689 ,  0.5091684 , -1.19299401,\n",
    "        -1.31396894],\n",
    "       [-0.00464454,  0.72719317,  0.69695731,  0.56252438, -0.97920399,\n",
    "        -0.74389309],\n",
    "       [-0.22910458,  0.77174515,  0.73823474,  0.60063578, -1.21242946,\n",
    "        -1.50399423],\n",
    "       [ 0.06401383,  1.128161  ,  1.0684542 ,  0.94363845, -1.17355855,\n",
    "        -1.59900687],\n",
    "       [ 0.20661198,  1.128161  ,  1.0684542 ,  0.94363845, -1.27073583,\n",
    "        -1.45648791],\n",
    "       [ 0.28583317,  1.1370714 ,  1.10973164,  0.9665053 , -1.07638127,\n",
    "        -0.79139942],\n",
    "       [ 0.18020491,  1.30636893,  1.27484137,  1.13419549, -1.31932447,\n",
    "        -1.26646262],\n",
    "       [ 0.35713225,  1.41329369,  1.35739623,  1.18755146, -1.17355855,\n",
    "        -1.36147526],\n",
    "       [ 0.89319566,  1.55586003,  1.52250596,  1.3781085 , -1.27073583,\n",
    "        -1.12394366],\n",
    "       [ 1.36852282,  1.8677239 ,  1.82795897,  1.67537748, -1.1541231 ,\n",
    "        -0.79139942],\n",
    "       [ 2.16073475,  2.19740857,  2.18294489,  2.02600243, -0.98892172,\n",
    "        -0.55386781],\n",
    "       [ 3.08498201,  2.55382442,  2.51316435,  2.35376053, -1.27073583,\n",
    "        -1.55150055],\n",
    "       [ 2.95294669,  2.55382442,  2.51316435,  2.35376053, -1.27073583,\n",
    "        -1.55150055],\n",
    "       [ 3.21701733,  2.82113631,  2.79385089,  2.65865179, -1.18327628,\n",
    "        -0.88641206]])"
   ]
  },
  {
   "cell_type": "code",
   "execution_count": 33,
   "metadata": {},
   "outputs": [
    {
     "name": "stdout",
     "output_type": "stream",
     "text": [
      "(85, 2)\n"
     ]
    }
   ],
   "source": [
    "# Import PCA\n",
    "from sklearn.decomposition import PCA\n",
    "\n",
    "# Create a PCA model with 2 components: pca\n",
    "pca = PCA(n_components=2)\n",
    "\n",
    "# Fit the PCA instance to the scaled samples\n",
    "pca.fit(scaled_samples)\n",
    "\n",
    "# Transform the scaled samples: pca_features\n",
    "pca_features = pca.transform(scaled_samples)\n",
    "\n",
    "# Print the shape of pca_features\n",
    "print(pca_features.shape)\n"
   ]
  },
  {
   "cell_type": "markdown",
   "metadata": {},
   "source": [
    "### **A tf-idf word-frequency array**"
   ]
  },
  {
   "cell_type": "code",
   "execution_count": 34,
   "metadata": {},
   "outputs": [],
   "source": [
    "documents=['cats say meow', 'dogs say woof', 'dogs chase cats']"
   ]
  },
  {
   "cell_type": "code",
   "execution_count": 35,
   "metadata": {},
   "outputs": [
    {
     "name": "stdout",
     "output_type": "stream",
     "text": [
      "[[0.51785612 0.         0.         0.68091856 0.51785612 0.        ]\n",
      " [0.         0.         0.51785612 0.         0.51785612 0.68091856]\n",
      " [0.51785612 0.68091856 0.51785612 0.         0.         0.        ]]\n",
      "['cats', 'chase', 'dogs', 'meow', 'say', 'woof']\n"
     ]
    }
   ],
   "source": [
    "# Import TfidfVectorizer\n",
    "from sklearn.feature_extraction.text import TfidfVectorizer\n",
    "\n",
    "# Create a TfidfVectorizer: tfidf\n",
    "tfidf = TfidfVectorizer() \n",
    "\n",
    "# Apply fit_transform to document: csr_mat\n",
    "csr_mat = tfidf.fit_transform(documents)\n",
    "\n",
    "# Print result of toarray() method\n",
    "print(csr_mat.toarray())\n",
    "\n",
    "# Get the words: words\n",
    "words = tfidf.get_feature_names()\n",
    "\n",
    "# Print words\n",
    "print(words)\n"
   ]
  },
  {
   "cell_type": "markdown",
   "metadata": {},
   "source": [
    "### **Clustering Wikipedia part I**"
   ]
  },
  {
   "cell_type": "code",
   "execution_count": 36,
   "metadata": {},
   "outputs": [],
   "source": [
    "# Perform the necessary imports\n",
    "from sklearn.decomposition import TruncatedSVD\n",
    "from sklearn.cluster import KMeans\n",
    "from sklearn.pipeline import make_pipeline\n",
    "\n",
    "# Create a TruncatedSVD instance: svd\n",
    "svd = TruncatedSVD(n_components=50)\n",
    "\n",
    "# Create a KMeans instance: kmeans\n",
    "kmeans = KMeans(n_clusters=6)\n",
    "\n",
    "# Create a pipeline: pipeline\n",
    "pipeline = make_pipeline(svd, kmeans)\n"
   ]
  },
  {
   "cell_type": "raw",
   "metadata": {},
   "source": [
    "Now that you have set up your pipeline, you will use it in the next exercise to cluster the articles."
   ]
  },
  {
   "cell_type": "markdown",
   "metadata": {},
   "source": [
    "### **Clustering Wikipedia part II**"
   ]
  },
  {
   "cell_type": "code",
   "execution_count": 37,
   "metadata": {},
   "outputs": [],
   "source": [
    "import pandas as pd\n",
    "from scipy.sparse import csr_matrix\n",
    "\n",
    "df = pd.read_csv('wikipedia-vectors.csv', index_col=0)\n",
    "articles = csr_matrix(df.transpose())\n",
    "titles = list(df.columns)"
   ]
  },
  {
   "cell_type": "code",
   "execution_count": 38,
   "metadata": {},
   "outputs": [
    {
     "data": {
      "text/plain": [
       "<60x13125 sparse matrix of type '<class 'numpy.float64'>'\n",
       "\twith 42091 stored elements in Compressed Sparse Row format>"
      ]
     },
     "execution_count": 38,
     "metadata": {},
     "output_type": "execute_result"
    }
   ],
   "source": [
    "articles"
   ]
  },
  {
   "cell_type": "code",
   "execution_count": 39,
   "metadata": {
    "scrolled": true
   },
   "outputs": [
    {
     "name": "stdout",
     "output_type": "stream",
     "text": [
      "    label                                        article\n",
      "29      0                               Jennifer Aniston\n",
      "28      0                                  Anne Hathaway\n",
      "27      0                                 Dakota Fanning\n",
      "26      0                                     Mila Kunis\n",
      "25      0                                  Russell Crowe\n",
      "24      0                                   Jessica Biel\n",
      "23      0                           Catherine Zeta-Jones\n",
      "22      0                              Denzel Washington\n",
      "21      0                             Michael Fassbender\n",
      "20      0                                 Angelina Jolie\n",
      "40      1                                    Tonsillitis\n",
      "37      1                                       Football\n",
      "42      1                                    Doxycycline\n",
      "49      1                                       Lymphoma\n",
      "48      1                                     Gabapentin\n",
      "47      1                                          Fever\n",
      "46      1                                     Prednisone\n",
      "45      1                                    Hepatitis C\n",
      "44      1                                           Gout\n",
      "43      1                                       Leukemia\n",
      "41      1                                    Hepatitis B\n",
      "12      2                                   Nigel Lawson\n",
      "19      2  2007 United Nations Climate Change Conference\n",
      "18      2  2010 United Nations Climate Change Conference\n",
      "17      2  Greenhouse gas emissions by the United States\n",
      "16      2                                        350.org\n",
      "10      2                                 Global warming\n",
      "14      2                                 Climate change\n",
      "13      2                               Connie Hedegaard\n",
      "11      2       Nationally Appropriate Mitigation Action\n",
      "15      2                                 Kyoto Protocol\n",
      "0       3                                       HTTP 404\n",
      "5       3                                         Tumblr\n",
      "1       3                                 Alexa Internet\n",
      "2       3                              Internet Explorer\n",
      "3       3                                    HTTP cookie\n",
      "4       3                                  Google Search\n",
      "6       3                    Hypertext Transfer Protocol\n",
      "7       3                                  Social search\n",
      "8       3                                        Firefox\n",
      "9       3                                       LinkedIn\n",
      "31      4                              Cristiano Ronaldo\n",
      "32      4                                   Arsenal F.C.\n",
      "39      4                                  Franck Ribéry\n",
      "38      4                                         Neymar\n",
      "30      4                  France national football team\n",
      "36      4              2014 FIFA World Cup qualification\n",
      "35      4                Colombia national football team\n",
      "34      4                             Zlatan Ibrahimović\n",
      "33      4                                 Radamel Falcao\n",
      "57      5                          Red Hot Chili Peppers\n",
      "56      5                                       Skrillex\n",
      "55      5                                  Black Sabbath\n",
      "54      5                                 Arctic Monkeys\n",
      "51      5                                     Nate Ruess\n",
      "52      5                                     The Wanted\n",
      "58      5                                         Sepsis\n",
      "50      5                                   Chad Kroeger\n",
      "53      5                                   Stevie Nicks\n",
      "59      5                                    Adam Levine\n"
     ]
    }
   ],
   "source": [
    "# Import pandas\n",
    "import pandas as pd\n",
    "\n",
    "# Fit the pipeline to articles\n",
    "pipeline.fit(articles)\n",
    "\n",
    "# Calculate the cluster labels: labels\n",
    "labels = pipeline.predict(articles)\n",
    "\n",
    "# Create a DataFrame aligning labels and titles: df\n",
    "df = pd.DataFrame({'label': labels, 'article': titles})\n",
    "\n",
    "# Display df sorted by cluster label\n",
    "print(df.sort_values('label'))\n"
   ]
  },
  {
   "cell_type": "markdown",
   "metadata": {},
   "source": [
    "### **Non-negative matrix factorization (NMF)**"
   ]
  },
  {
   "cell_type": "markdown",
   "metadata": {},
   "source": [
    "#### NMF applied to Wikipedia articles"
   ]
  },
  {
   "cell_type": "code",
   "execution_count": 40,
   "metadata": {
    "scrolled": true
   },
   "outputs": [
    {
     "name": "stdout",
     "output_type": "stream",
     "text": [
      "[[0.00000000e+00 0.00000000e+00 0.00000000e+00 0.00000000e+00\n",
      "  0.00000000e+00 4.40321548e-01]\n",
      " [0.00000000e+00 0.00000000e+00 0.00000000e+00 0.00000000e+00\n",
      "  0.00000000e+00 5.66415541e-01]\n",
      " [3.82023106e-03 0.00000000e+00 0.00000000e+00 0.00000000e+00\n",
      "  0.00000000e+00 3.98515151e-01]\n",
      " [0.00000000e+00 0.00000000e+00 0.00000000e+00 0.00000000e+00\n",
      "  0.00000000e+00 3.81615232e-01]\n",
      " [0.00000000e+00 0.00000000e+00 0.00000000e+00 0.00000000e+00\n",
      "  0.00000000e+00 4.85353325e-01]\n",
      " [1.29278270e-02 1.37891015e-02 7.76405670e-03 3.34466063e-02\n",
      "  0.00000000e+00 3.34408381e-01]\n",
      " [0.00000000e+00 0.00000000e+00 2.06752091e-02 0.00000000e+00\n",
      "  6.04297284e-03 3.58945063e-01]\n",
      " [0.00000000e+00 0.00000000e+00 0.00000000e+00 0.00000000e+00\n",
      "  0.00000000e+00 4.90810805e-01]\n",
      " [1.54260575e-02 1.42820051e-02 3.76656228e-03 2.37089540e-02\n",
      "  2.62547641e-02 4.80615661e-01]\n",
      " [1.11727496e-02 3.13681670e-02 3.09509273e-02 6.56948550e-02\n",
      "  1.96628556e-02 3.38173919e-01]\n",
      " [0.00000000e+00 0.00000000e+00 5.30755629e-01 0.00000000e+00\n",
      "  2.83603627e-02 0.00000000e+00]\n",
      " [0.00000000e+00 0.00000000e+00 3.56533607e-01 0.00000000e+00\n",
      "  0.00000000e+00 0.00000000e+00]\n",
      " [1.20116503e-02 6.50043580e-03 3.12266544e-01 6.09714187e-02\n",
      "  1.13831012e-02 1.92537456e-02]\n",
      " [3.93451070e-03 6.24442934e-03 3.42396613e-01 1.10758362e-02\n",
      "  0.00000000e+00 0.00000000e+00]\n",
      " [4.63780445e-03 0.00000000e+00 4.34944726e-01 0.00000000e+00\n",
      "  3.84172401e-02 3.08025219e-03]\n",
      " [0.00000000e+00 0.00000000e+00 4.83322015e-01 0.00000000e+00\n",
      "  0.00000000e+00 0.00000000e+00]\n",
      " [5.64965844e-03 1.83535581e-02 3.76558717e-01 3.25431191e-02\n",
      "  0.00000000e+00 1.13294219e-02]\n",
      " [0.00000000e+00 0.00000000e+00 4.80946563e-01 0.00000000e+00\n",
      "  0.00000000e+00 0.00000000e+00]\n",
      " [0.00000000e+00 9.01864528e-03 5.51045481e-01 0.00000000e+00\n",
      "  0.00000000e+00 0.00000000e+00]\n",
      " [0.00000000e+00 0.00000000e+00 4.66001371e-01 0.00000000e+00\n",
      "  0.00000000e+00 0.00000000e+00]\n",
      " [0.00000000e+00 1.14080463e-02 2.08669585e-02 5.17718946e-01\n",
      "  5.81253648e-02 1.37803642e-02]\n",
      " [0.00000000e+00 0.00000000e+00 0.00000000e+00 5.10427385e-01\n",
      "  0.00000000e+00 0.00000000e+00]\n",
      " [0.00000000e+00 5.60101370e-03 0.00000000e+00 4.22340261e-01\n",
      "  0.00000000e+00 0.00000000e+00]\n",
      " [0.00000000e+00 0.00000000e+00 0.00000000e+00 4.36710299e-01\n",
      "  0.00000000e+00 0.00000000e+00]\n",
      " [0.00000000e+00 0.00000000e+00 0.00000000e+00 4.98045338e-01\n",
      "  0.00000000e+00 0.00000000e+00]\n",
      " [9.88306779e-02 8.60044419e-02 3.91060878e-03 3.80981924e-01\n",
      "  4.39123996e-04 5.21955488e-03]\n",
      " [0.00000000e+00 0.00000000e+00 0.00000000e+00 5.72116347e-01\n",
      "  0.00000000e+00 7.13269436e-03]\n",
      " [1.31456854e-02 1.04853185e-02 0.00000000e+00 4.68862151e-01\n",
      "  0.00000000e+00 1.16268778e-02]\n",
      " [3.84508726e-03 0.00000000e+00 0.00000000e+00 5.75656655e-01\n",
      "  0.00000000e+00 0.00000000e+00]\n",
      " [2.25218269e-03 1.38732069e-03 0.00000000e+00 5.27896483e-01\n",
      "  1.20232934e-02 1.49429450e-02]\n",
      " [0.00000000e+00 4.07548307e-01 1.85727728e-03 0.00000000e+00\n",
      "  2.96530891e-03 4.52219877e-04]\n",
      " [1.53407889e-03 6.08173222e-01 5.22321084e-04 6.24797291e-03\n",
      "  1.18413745e-03 4.39928696e-04]\n",
      " [5.38771773e-03 2.65017127e-01 5.38549559e-04 1.86908711e-02\n",
      "  6.38481029e-03 2.90007505e-03]\n",
      " [0.00000000e+00 6.44916107e-01 0.00000000e+00 0.00000000e+00\n",
      "  0.00000000e+00 0.00000000e+00]\n",
      " [0.00000000e+00 6.08907165e-01 0.00000000e+00 0.00000000e+00\n",
      "  0.00000000e+00 0.00000000e+00]\n",
      " [0.00000000e+00 3.43685364e-01 0.00000000e+00 0.00000000e+00\n",
      "  3.97688230e-03 0.00000000e+00]\n",
      " [6.10455522e-03 3.15312920e-01 1.54890670e-02 0.00000000e+00\n",
      "  5.06109692e-03 4.74178307e-03]\n",
      " [6.47316023e-03 2.13328612e-01 9.49559624e-03 4.56938449e-02\n",
      "  1.71868324e-02 9.51755453e-03]\n",
      " [7.99076882e-03 4.67595305e-01 0.00000000e+00 2.43402868e-02\n",
      "  0.00000000e+00 0.00000000e+00]\n",
      " [0.00000000e+00 6.42820310e-01 0.00000000e+00 2.35835241e-03\n",
      "  0.00000000e+00 0.00000000e+00]\n",
      " [0.00000000e+00 0.00000000e+00 0.00000000e+00 0.00000000e+00\n",
      "  4.76952587e-01 0.00000000e+00]\n",
      " [0.00000000e+00 0.00000000e+00 0.00000000e+00 0.00000000e+00\n",
      "  4.94121051e-01 0.00000000e+00]\n",
      " [0.00000000e+00 2.99058950e-04 2.14500725e-03 0.00000000e+00\n",
      "  3.81674445e-01 5.83581853e-03]\n",
      " [0.00000000e+00 0.00000000e+00 0.00000000e+00 5.64633371e-03\n",
      "  5.42093388e-01 0.00000000e+00]\n",
      " [1.78043700e-03 7.84411066e-04 1.41637469e-02 4.59734942e-04\n",
      "  4.24186539e-01 0.00000000e+00]\n",
      " [0.00000000e+00 0.00000000e+00 0.00000000e+00 0.00000000e+00\n",
      "  5.11252107e-01 0.00000000e+00]\n",
      " [0.00000000e+00 0.00000000e+00 3.28406267e-03 0.00000000e+00\n",
      "  3.72785026e-01 0.00000000e+00]\n",
      " [0.00000000e+00 2.62081724e-04 3.61129139e-02 2.32301082e-04\n",
      "  2.30447760e-01 0.00000000e+00]\n",
      " [1.12507745e-02 2.12327685e-03 1.60983428e-02 1.02475178e-02\n",
      "  3.25372772e-01 3.75754734e-02]\n",
      " [0.00000000e+00 0.00000000e+00 0.00000000e+00 0.00000000e+00\n",
      "  4.18843864e-01 3.57529711e-04]\n",
      " [3.08346395e-01 0.00000000e+00 0.00000000e+00 0.00000000e+00\n",
      "  0.00000000e+00 0.00000000e+00]\n",
      " [3.68149258e-01 0.00000000e+00 0.00000000e+00 0.00000000e+00\n",
      "  0.00000000e+00 0.00000000e+00]\n",
      " [3.97918251e-01 2.81703196e-02 3.67038531e-03 1.70051722e-02\n",
      "  1.95915389e-03 2.11573884e-02]\n",
      " [3.75769480e-01 2.07521039e-03 0.00000000e+00 3.72120027e-02\n",
      "  0.00000000e+00 5.85733396e-03]\n",
      " [4.37998946e-01 0.00000000e+00 0.00000000e+00 0.00000000e+00\n",
      "  0.00000000e+00 0.00000000e+00]\n",
      " [4.57850437e-01 0.00000000e+00 0.00000000e+00 0.00000000e+00\n",
      "  0.00000000e+00 0.00000000e+00]\n",
      " [2.75458798e-01 4.46956878e-03 0.00000000e+00 5.29606337e-02\n",
      "  0.00000000e+00 1.90934885e-02]\n",
      " [4.45164190e-01 0.00000000e+00 0.00000000e+00 0.00000000e+00\n",
      "  5.48550263e-03 0.00000000e+00]\n",
      " [2.92720826e-01 1.33664904e-02 1.14271275e-02 1.05190327e-02\n",
      "  1.87645245e-01 9.23658190e-03]\n",
      " [3.78241185e-01 1.43970214e-02 0.00000000e+00 9.85148001e-02\n",
      "  1.35863495e-02 0.00000000e+00]]\n"
     ]
    }
   ],
   "source": [
    "# Import NMF\n",
    "from sklearn.decomposition import NMF\n",
    "\n",
    "# Create an NMF instance: model\n",
    "model = NMF(n_components=6)\n",
    "\n",
    "# Fit the model to articles\n",
    "model.fit(articles)\n",
    "\n",
    "# Transform the articles: nmf_features\n",
    "nmf_features = model.transform(articles)\n",
    "\n",
    "# Print the NMF features\n",
    "print(nmf_features)"
   ]
  },
  {
   "cell_type": "markdown",
   "metadata": {},
   "source": [
    "#### **NMF features of the Wikipedia articles**"
   ]
  },
  {
   "cell_type": "code",
   "execution_count": 41,
   "metadata": {},
   "outputs": [
    {
     "name": "stdout",
     "output_type": "stream",
     "text": [
      "0    0.003845\n",
      "1    0.000000\n",
      "2    0.000000\n",
      "3    0.575657\n",
      "4    0.000000\n",
      "5    0.000000\n",
      "Name: Anne Hathaway, dtype: float64\n",
      "0    0.000000\n",
      "1    0.005601\n",
      "2    0.000000\n",
      "3    0.422340\n",
      "4    0.000000\n",
      "5    0.000000\n",
      "Name: Denzel Washington, dtype: float64\n"
     ]
    }
   ],
   "source": [
    "# Import pandas\n",
    "import pandas as pd\n",
    "\n",
    "# Create a pandas DataFrame: df\n",
    "df = pd.DataFrame(nmf_features, index=titles)\n",
    "\n",
    "# Print the row for 'Anne Hathaway'\n",
    "print(df.loc['Anne Hathaway'])\n",
    "\n",
    "# Print the row for 'Denzel Washington'\n",
    "print(df.loc['Denzel Washington'])"
   ]
  },
  {
   "cell_type": "code",
   "execution_count": null,
   "metadata": {},
   "outputs": [],
   "source": [
    "# Import pandas\n",
    "import pandas as pd\n",
    "\n",
    "# Create a DataFrame: components_df\n",
    "components_df = pd.DataFrame(model.components_, columns=words)\n",
    "\n",
    "# Print the shape of the DataFrame\n",
    "print(components_df.shape)\n",
    "\n",
    "# Select row 3: component\n",
    "component = components_df.iloc[3]\n",
    "\n",
    "# Print result of nlargest\n",
    "print(component.nlargest())\n"
   ]
  },
  {
   "cell_type": "markdown",
   "metadata": {},
   "source": [
    "#### Explore the LED digits dataset"
   ]
  },
  {
   "cell_type": "code",
   "execution_count": null,
   "metadata": {},
   "outputs": [],
   "source": [
    "# Import pyplot\n",
    "from matplotlib import pyplot as plt\n",
    "\n",
    "# Select the 0th row: digit\n",
    "digit = samples[0,:]\n",
    "\n",
    "# Print digit\n",
    "print(digit)\n",
    "\n",
    "# Reshape digit to a 13x8 array: bitmap\n",
    "bitmap = digit.reshape((13, 8))\n",
    "\n",
    "# Print bitmap\n",
    "print(bitmap)\n",
    "\n",
    "# Use plt.imshow to display bitmap\n",
    "plt.imshow(bitmap, cmap='gray', interpolation='nearest')\n",
    "plt.colorbar()\n",
    "plt.show()\n"
   ]
  },
  {
   "cell_type": "markdown",
   "metadata": {},
   "source": [
    "#### NMF learns the parts of images"
   ]
  },
  {
   "cell_type": "code",
   "execution_count": 47,
   "metadata": {},
   "outputs": [],
   "source": [
    "def show_as_image(sample):\n",
    "    bitmap = sample.reshape((13, 8))\n",
    "    plt.figure()\n",
    "    plt.imshow(bitmap, cmap='gray', interpolation='nearest')\n",
    "    plt.colorbar()\n",
    "    plt.show()"
   ]
  },
  {
   "cell_type": "markdown",
   "metadata": {},
   "source": [
    "### NMF learns the parts of images"
   ]
  },
  {
   "cell_type": "code",
   "execution_count": 50,
   "metadata": {
    "scrolled": true
   },
   "outputs": [
    {
     "data": {
      "image/png": "[encoded data removed]",
      "text/plain": [
       "<Figure size 432x288 with 2 Axes>"
      ]
     },
     "metadata": {
      "needs_background": "light"
     },
     "output_type": "display_data"
    },
    {
     "data": {
      "image/png": "[encoded data removed]",
      "text/plain": [
       "<Figure size 432x288 with 2 Axes>"
      ]
     },
     "metadata": {
      "needs_background": "light"
     },
     "output_type": "display_data"
    },
    {
     "data": {
      "image/png": "[encoded data removed]",
      "text/plain": [
       "<Figure size 432x288 with 2 Axes>"
      ]
     },
     "metadata": {
      "needs_background": "light"
     },
     "output_type": "display_data"
    },
    {
     "data": {
      "image/png": "[encoded data removed]",
      "text/plain": [
       "<Figure size 432x288 with 2 Axes>"
      ]
     },
     "metadata": {
      "needs_background": "light"
     },
     "output_type": "display_data"
    },
    {
     "data": {
      "image/png": "[encoded data removed]",
      "text/plain": [
       "<Figure size 432x288 with 2 Axes>"
      ]
     },
     "metadata": {
      "needs_background": "light"
     },
     "output_type": "display_data"
    },
    {
     "data": {
      "image/png": "[encoded data removed]",
      "text/plain": [
       "<Figure size 432x288 with 2 Axes>"
      ]
     },
     "metadata": {
      "needs_background": "light"
     },
     "output_type": "display_data"
    },
    {
     "data": {
      "image/png": "[encoded data removed]",
      "text/plain": [
       "<Figure size 432x288 with 2 Axes>"
      ]
     },
     "metadata": {
      "needs_background": "light"
     },
     "output_type": "display_data"
    },
    {
     "name": "stdout",
     "output_type": "stream",
     "text": [
      "[0.56389272 0.         0.59151401 0.         0.53290007 0.48133215\n",
      " 0.        ]\n"
     ]
    }
   ],
   "source": [
    "# Import NMF\n",
    "from sklearn.decomposition import NMF\n",
    "\n",
    "# Create an NMF model: model\n",
    "model = NMF(n_components=7)\n",
    "\n",
    "# Apply fit_transform to samples: features\n",
    "features = model.fit_transform(samples)\n",
    "\n",
    "# Call show_as_image on each component\n",
    "for component in model.components_:\n",
    "    show_as_image(component)\n",
    "\n",
    "# Select the 0th row of features: digit_features\n",
    "digit_features = features[0,:]\n",
    "\n",
    "# Print digit_features\n",
    "print(digit_features)"
   ]
  },
  {
   "cell_type": "markdown",
   "metadata": {},
   "source": [
    "### PCA doesn't learn parts"
   ]
  },
  {
   "cell_type": "code",
   "execution_count": 51,
   "metadata": {
    "scrolled": true
   },
   "outputs": [
    {
     "data": {
      "image/png": "[encoded data removed]",
      "text/plain": [
       "<Figure size 432x288 with 2 Axes>"
      ]
     },
     "metadata": {
      "needs_background": "light"
     },
     "output_type": "display_data"
    },
    {
     "data": {
      "image/png": "[encoded data removed]",
      "text/plain": [
       "<Figure size 432x288 with 2 Axes>"
      ]
     },
     "metadata": {
      "needs_background": "light"
     },
     "output_type": "display_data"
    },
    {
     "data": {
      "image/png": "[encoded data removed]",
      "text/plain": [
       "<Figure size 432x288 with 2 Axes>"
      ]
     },
     "metadata": {
      "needs_background": "light"
     },
     "output_type": "display_data"
    },
    {
     "data": {
      "image/png": "[encoded data removed]",
      "text/plain": [
       "<Figure size 432x288 with 2 Axes>"
      ]
     },
     "metadata": {
      "needs_background": "light"
     },
     "output_type": "display_data"
    },
    {
     "data": {
      "image/png": "[encoded data removed]",
      "text/plain": [
       "<Figure size 432x288 with 2 Axes>"
      ]
     },
     "metadata": {
      "needs_background": "light"
     },
     "output_type": "display_data"
    },
    {
     "data": {
      "image/png": "[encoded data removed]",
      "text/plain": [
       "<Figure size 432x288 with 2 Axes>"
      ]
     },
     "metadata": {
      "needs_background": "light"
     },
     "output_type": "display_data"
    },
    {
     "data": {
      "image/png": "[encoded data removed]",
      "text/plain": [
       "<Figure size 432x288 with 2 Axes>"
      ]
     },
     "metadata": {
      "needs_background": "light"
     },
     "output_type": "display_data"
    }
   ],
   "source": [
    "# Import PCA\n",
    "from sklearn.decomposition import PCA\n",
    "\n",
    "# Create a PCA instance: model\n",
    "model = PCA(n_components=7)\n",
    "\n",
    "# Apply fit_transform to samples: features\n",
    "features = model.fit_transform(samples)\n",
    "\n",
    "# Call show_as_image on each component\n",
    "for component in model.components_:\n",
    "    show_as_image(component)\n",
    "    "
   ]
  },
  {
   "cell_type": "markdown",
   "metadata": {},
   "source": [
    "### **Which articles are similar to 'Cristiano Ronaldo'?**"
   ]
  },
  {
   "cell_type": "code",
   "execution_count": 52,
   "metadata": {},
   "outputs": [
    {
     "name": "stdout",
     "output_type": "stream",
     "text": [
      "Cristiano Ronaldo                1.000000\n",
      "Franck Ribéry                    0.999972\n",
      "Radamel Falcao                   0.999942\n",
      "Zlatan Ibrahimović               0.999942\n",
      "France national football team    0.999923\n",
      "dtype: float64\n"
     ]
    }
   ],
   "source": [
    "# Perform the necessary imports\n",
    "import pandas as pd\n",
    "from sklearn.preprocessing import normalize\n",
    "\n",
    "# Normalize the NMF features: norm_features\n",
    "norm_features = normalize(nmf_features)\n",
    "\n",
    "# Create a DataFrame: df\n",
    "df = pd.DataFrame(norm_features, index=titles)\n",
    "\n",
    "# Select the row corresponding to 'Cristiano Ronaldo': article\n",
    "article = df.loc['Cristiano Ronaldo']\n",
    "\n",
    "# Compute the dot products: similarities\n",
    "similarities = df.dot(article)\n",
    "\n",
    "# Display those with the largest cosine similarity\n",
    "print(similarities.nlargest())"
   ]
  },
  {
   "cell_type": "markdown",
   "metadata": {},
   "source": [
    "### **Recommend musical artists part I**"
   ]
  },
  {
   "cell_type": "code",
   "execution_count": 102,
   "metadata": {},
   "outputs": [],
   "source": [
    "# import pandas as pd\n",
    "# from scipy.sparse import csr_matrix\n",
    "\n",
    "# df = pd.read_csv('scrobbler-small-sample.csv', index_col=0)\n",
    "# artists= csr_matrix(df.transpose())\n",
    "# artist_names = list(df.columns)"
   ]
  },
  {
   "cell_type": "code",
   "execution_count": 104,
   "metadata": {},
   "outputs": [],
   "source": [
    "# Perform the necessary imports\n",
    "from sklearn.decomposition import NMF\n",
    "from sklearn.preprocessing import Normalizer, MaxAbsScaler\n",
    "from sklearn.pipeline import make_pipeline\n",
    "\n",
    "# Create a MaxAbsScaler: scaler\n",
    "scaler = MaxAbsScaler()\n",
    "\n",
    "# Create an NMF model: nmf\n",
    "nmf = NMF(n_components=20)\n",
    "\n",
    "# Create a Normalizer: normalizer\n",
    "normalizer = Normalizer()\n",
    "\n",
    "# Create a pipeline: pipeline\n",
    "pipeline = make_pipeline(scaler, nmf, normalizer)\n",
    "\n",
    "# Apply fit_transform to artists: norm_features\n",
    "norm_features = pipeline.fit_transform(artists)"
   ]
  },
  {
   "cell_type": "code",
   "execution_count": null,
   "metadata": {},
   "outputs": [],
   "source": [
    "# Import pandas\n",
    "import pandas as pd\n",
    "\n",
    "# Create a DataFrame: df\n",
    "df = pd.DataFrame(norm_features, index=artist_names)\n",
    "\n",
    "# Select row of 'Bruce Springsteen': artist\n",
    "artist = df.loc['Bruce Springsteen']\n",
    "\n",
    "# Compute cosine similarities: similarities\n",
    "similarities = df.dot(artist)\n",
    "\n",
    "# Display those with highest cosine similarity\n",
    "print(similarities.nlargest())"
   ]
  },
  {
   "cell_type": "code",
   "execution_count": null,
   "metadata": {},
   "outputs": [],
   "source": []
  }
 ],
 "metadata": {
  "kernelspec": {
   "display_name": "Python 3",
   "language": "python",
   "name": "python3"
  },
  "language_info": {
   "codemirror_mode": {
    "name": "ipython",
    "version": 3
   },
   "file_extension": ".py",
   "mimetype": "text/x-python",
   "name": "python",
   "nbconvert_exporter": "python",
   "pygments_lexer": "ipython3",
   "version": "3.7.7"
  }
 },
 "nbformat": 4,
 "nbformat_minor": 4
}
