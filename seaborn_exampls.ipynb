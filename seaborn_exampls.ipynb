{
 "cells": [
  {
   "cell_type": "code",
   "execution_count": null,
   "metadata": {},
   "outputs": [],
   "source": [
    "# Create a figure and axes\n",
    "fig, ax = plt.subplots()\n",
    "\n",
    "# Plot the distribution of 1 bedroom rents\n",
    "sns.distplot(df['fmr_1'], ax=ax)\n",
    "\n",
    "# Modify the properties of the plot\n",
    "ax.set(xlabel=\"1 Bedroom Fair Market Rent\",\n",
    "       xlim=(100,1500),\n",
    "       title=\"US Rent\")\n",
    "\n",
    "# Display the plot\n",
    "plt.show()"
   ]
  },
  {
   "cell_type": "code",
   "execution_count": null,
   "metadata": {},
   "outputs": [],
   "source": [
    "sns.palplot(sns.color_palette(\"coolwarm\", 6))\n",
    "plt.show()"
   ]
  },
  {
   "cell_type": "code",
   "execution_count": null,
   "metadata": {},
   "outputs": [],
   "source": [
    "for p in sns.palettes.SEABORN_PALETTES:\n",
    "sns.set_palette(p)\n",
    "sns.distplot(df['Tuition'])"
   ]
  },
  {
   "cell_type": "code",
   "execution_count": null,
   "metadata": {},
   "outputs": [],
   "source": [
    "for p in sns.palettes.SEABORN_PALETTES:\n",
    "    sns.set_palette(p)\n",
    "    sns.palplot(sns.color_palette())\n",
    "    plt.show()"
   ]
  },
  {
   "cell_type": "code",
   "execution_count": null,
   "metadata": {},
   "outputs": [],
   "source": [
    "# Create a figure and axes. Then plot the data\n",
    "fig, ax = plt.subplots()\n",
    "sns.distplot(df['fmr_1'], ax=ax)\n",
    "\n",
    "# Customize the labels and limits\n",
    "ax.set(xlabel=\"1 Bedroom Fair Market Rent\", xlim=(100,1500), title=\"US Rent\")\n",
    "\n",
    "# Add vertical lines for the median and mean\n",
    "ax.axvline(x=median, color='m', label='Median', linestyle='--', linewidth=2)\n",
    "ax.axvline(x=mean, color='b', label='Mean', linestyle='-', linewidth=2)\n",
    "\n",
    "# Show the legend and plot the data\n",
    "ax.legend()\n",
    "plt.show()"
   ]
  },
  {
   "cell_type": "code",
   "execution_count": null,
   "metadata": {},
   "outputs": [],
   "source": [
    "# Create a plot with 1 row and 2 columns that share the y axis label\n",
    "fig, (ax0, ax1) = plt.subplots(nrows=1, ncols=2, sharey=True)\n",
    "\n",
    "# Plot the distribution of 1 bedroom apartments on ax0\n",
    "sns.distplot(df['fmr_1'], ax=ax0)\n",
    "ax0.set(xlabel=\"1 Bedroom Fair Market Rent\", xlim=(100,1500))\n",
    "\n",
    "# Plot the distribution of 2 bedroom apartments on ax1\n",
    "sns.distplot(df['fmr_2'], ax=ax1)\n",
    "ax1.set(xlabel=\"2 Bedroom Fair Market Rent\", xlim=(100,1500))\n",
    "\n",
    "# Display the plot\n",
    "plt.show()"
   ]
  },
  {
   "cell_type": "code",
   "execution_count": null,
   "metadata": {},
   "outputs": [],
   "source": [
    "# Create the stripplot\n",
    "sns.stripplot(data=df,\n",
    "         x='Award_Amount',\n",
    "         y='Model Selected',\n",
    "         jitter=True)\n",
    "\n",
    "plt.show()"
   ]
  },
  {
   "cell_type": "code",
   "execution_count": null,
   "metadata": {},
   "outputs": [],
   "source": [
    "# Create and display a swarmplot with hue set to the Region\n",
    "sns.swarmplot(data=df,\n",
    "         x='Award_Amount',\n",
    "         y='Model Selected',\n",
    "         hue='Region')\n",
    "\n",
    "plt.show()\n",
    "\n"
   ]
  },
  {
   "cell_type": "code",
   "execution_count": null,
   "metadata": {},
   "outputs": [],
   "source": [
    "# Create a boxplot\n",
    "sns.boxplot(data=df,\n",
    "         x='Award_Amount',\n",
    "         y='Model Selected',)\n",
    "\n",
    "plt.show()\n",
    "plt.clf()"
   ]
  },
  {
   "cell_type": "code",
   "execution_count": null,
   "metadata": {},
   "outputs": [],
   "source": [
    "# Create a violinplot with the husl palette\n",
    "sns.violinplot(data=df,\n",
    "         x='Award_Amount',\n",
    "         y='Model Selected',\n",
    "         palette='husl')\n",
    "\n",
    "plt.show()\n",
    "plt.clf()"
   ]
  },
  {
   "cell_type": "code",
   "execution_count": null,
   "metadata": {},
   "outputs": [],
   "source": [
    "# Create a lvplot with the Paired palette and the Region column as the hue\n",
    "sns.lvplot(data=df,\n",
    "         x='Award_Amount',\n",
    "         y='Model Selected',\n",
    "         palette='Paired',\n",
    "         hue='Region')\n",
    "\n",
    "plt.show()\n",
    "plt.clf()"
   ]
  },
  {
   "cell_type": "code",
   "execution_count": null,
   "metadata": {},
   "outputs": [],
   "source": [
    "# Show a countplot with the number of models used with each region a different color\n",
    "sns.countplot(data=df,\n",
    "         y=\"Model Selected\",\n",
    "         hue=\"Region\")\n",
    "\n",
    "plt.show()\n",
    "plt.clf()"
   ]
  },
  {
   "cell_type": "code",
   "execution_count": null,
   "metadata": {},
   "outputs": [],
   "source": [
    "# Create a pointplot and include the capsize in order to show bars on the confidence interval\n",
    "sns.pointplot(data=df,\n",
    "         y='Award_Amount',\n",
    "         x='Model Selected',\n",
    "         capsize=.1)\n",
    "\n",
    "plt.show()\n",
    "plt.clf()"
   ]
  },
  {
   "cell_type": "code",
   "execution_count": null,
   "metadata": {},
   "outputs": [],
   "source": [
    "# Create a barplot with each Region shown as a different color\n",
    "sns.barplot(data=df,\n",
    "         y='Award_Amount',\n",
    "         x='Model Selected',\n",
    "         hue='Region')\n",
    "\n",
    "plt.show()\n",
    "plt.clf()"
   ]
  },
  {
   "cell_type": "code",
   "execution_count": null,
   "metadata": {},
   "outputs": [],
   "source": [
    "# Display a regression plot for Tuition\n",
    "sns.regplot(data=df,\n",
    "         y='Tuition',\n",
    "         x=\"SAT_AVG_ALL\",\n",
    "         marker='^',\n",
    "         color='g')\n",
    "\n",
    "plt.show()\n",
    "plt.clf()"
   ]
  },
  {
   "cell_type": "code",
   "execution_count": null,
   "metadata": {},
   "outputs": [],
   "source": [
    "# Display the residual plot\n",
    "sns.residplot(data=df,\n",
    "          y='Tuition',\n",
    "          x=\"SAT_AVG_ALL\",\n",
    "          color='g')\n",
    "\n",
    "plt.show()\n",
    "plt.clf()"
   ]
  },
  {
   "cell_type": "code",
   "execution_count": null,
   "metadata": {},
   "outputs": [],
   "source": [
    "# Plot a regression plot of Tuition and the Percentage of Pell Grants\n",
    "sns.regplot(data=df,\n",
    "            y='Tuition',\n",
    "            x=\"PCTPELL\")\n",
    "\n",
    "plt.show()\n",
    "plt.clf()"
   ]
  },
  {
   "cell_type": "code",
   "execution_count": null,
   "metadata": {},
   "outputs": [],
   "source": [
    "# Create another plot that estimates the tuition by PCTPELL\n",
    "sns.regplot(data=df,\n",
    "            y='Tuition',\n",
    "            x=\"PCTPELL\",\n",
    "            x_bins=5)\n",
    "\n",
    "plt.show()\n",
    "plt.clf()"
   ]
  },
  {
   "cell_type": "code",
   "execution_count": null,
   "metadata": {},
   "outputs": [],
   "source": [
    "# The final plot should include a line using a 2nd order polynomial\n",
    "sns.regplot(data=df,\n",
    "            y='Tuition',\n",
    "            x=\"PCTPELL\",\n",
    "            x_bins=5,\n",
    "            order=2)\n",
    "\n",
    "plt.show()\n",
    "plt.clf()"
   ]
  },
  {
   "cell_type": "code",
   "execution_count": null,
   "metadata": {},
   "outputs": [],
   "source": [
    "# Create a scatter plot by disabling the regression line\n",
    "sns.regplot(data=df,\n",
    "            y='Tuition',\n",
    "            x=\"UG\",\n",
    "            fit_reg=False)\n",
    "\n",
    "plt.show()\n",
    "plt.clf()"
   ]
  },
  {
   "cell_type": "code",
   "execution_count": null,
   "metadata": {},
   "outputs": [],
   "source": [
    "# Create a scatter plot and bin the data into 5 bins\n",
    "sns.regplot(data=df,\n",
    "            y='Tuition',\n",
    "            x=\"UG\",\n",
    "            x_bins=5)\n",
    "\n",
    "plt.show()\n",
    "plt.clf()"
   ]
  },
  {
   "cell_type": "code",
   "execution_count": null,
   "metadata": {},
   "outputs": [],
   "source": [
    "# Create a regplot and bin the data into 8 bins\n",
    "sns.regplot(data=df,\n",
    "         y='Tuition',\n",
    "         x=\"UG\",\n",
    "         x_bins=8)\n",
    "\n",
    "plt.show()\n",
    "plt.clf()"
   ]
  },
  {
   "cell_type": "code",
   "execution_count": null,
   "metadata": {},
   "outputs": [],
   "source": [
    "# Create a crosstab table of the data\n",
    "pd_crosstab = pd.crosstab(df[\"Group\"], df[\"YEAR\"])\n",
    "print(pd_crosstab)\n",
    "\n",
    "# Plot a heatmap of the table\n",
    "sns.heatmap(pd_crosstab)\n",
    "\n",
    "# Rotate tick marks for visibility\n",
    "plt.yticks(rotation=0)\n",
    "plt.xticks(rotation=90)\n",
    "\n",
    "plt.show()"
   ]
  },
  {
   "cell_type": "code",
   "execution_count": null,
   "metadata": {},
   "outputs": [],
   "source": [
    "# Create the crosstab DataFrame\n",
    "pd_crosstab = pd.crosstab(df[\"Group\"], df[\"YEAR\"])\n",
    "\n",
    "# Plot a heatmap of the table with no color bar and using the BuGn palette\n",
    "sns.heatmap(pd_crosstab, cbar=False, cmap=\"BuGn\", linewidths=0.3)\n",
    "\n",
    "# Rotate tick marks for visibility\n",
    "plt.yticks(rotation=0)\n",
    "plt.xticks(rotation=90)\n",
    "\n",
    "#Show the plot\n",
    "plt.show()\n",
    "plt.clf()"
   ]
  },
  {
   "cell_type": "code",
   "execution_count": null,
   "metadata": {},
   "outputs": [],
   "source": [
    "# Create FacetGrid with Degree_Type and specify the order of the rows using row_order\n",
    "g2 = sns.FacetGrid(df, \n",
    "             row=\"Degree_Type\",\n",
    "             row_order=['Graduate', 'Bachelors', 'Associates', 'Certificate'])\n",
    "\n",
    "# Map a pointplot of SAT_AVG_ALL onto the grid\n",
    "g2.map(sns.pointplot, 'SAT_AVG_ALL')\n",
    "\n",
    "# Show the plot\n",
    "plt.show()\n",
    "plt.clf()"
   ]
  },
  {
   "cell_type": "code",
   "execution_count": null,
   "metadata": {},
   "outputs": [],
   "source": [
    "# Create a factor plot that contains boxplots of Tuition values\n",
    "sns.factorplot(data=df,\n",
    "         x='Tuition',\n",
    "         kind='box',\n",
    "         row='Degree_Type')\n",
    "\n",
    "plt.show()\n",
    "plt.clf()"
   ]
  },
  {
   "cell_type": "code",
   "execution_count": null,
   "metadata": {},
   "outputs": [],
   "source": [
    "# Create a facetted pointplot of Average SAT_AVG_ALL scores facetted by Degree Type \n",
    "sns.factorplot(data=df,\n",
    "        x='SAT_AVG_ALL',\n",
    "        kind='point',\n",
    "        row='Degree_Type',\n",
    "        row_order=['Graduate', 'Bachelors', 'Associates', 'Certificate'])\n",
    "\n",
    "plt.show()\n",
    "plt.clf()"
   ]
  },
  {
   "cell_type": "code",
   "execution_count": null,
   "metadata": {},
   "outputs": [],
   "source": [
    "# Create a FacetGrid varying by column and columns ordered with the degree_order variable\n",
    "g = sns.FacetGrid(df, col=\"Degree_Type\", col_order=degree_ord)\n",
    "\n",
    "# Map a scatter plot of Undergrad Population compared to PCTPELL\n",
    "g.map(plt.scatter, 'UG', 'PCTPELL')\n",
    "\n",
    "plt.show()\n",
    "plt.clf()"
   ]
  },
  {
   "cell_type": "code",
   "execution_count": null,
   "metadata": {},
   "outputs": [],
   "source": [
    "# Re-create the plot above as an lmplot\n",
    "sns.lmplot(data=df,\n",
    "        x='UG',\n",
    "        y='PCTPELL',\n",
    "        col=\"Degree_Type\",\n",
    "        col_order=degree_ord)\n",
    "\n",
    "plt.show()\n",
    "plt.clf()"
   ]
  },
  {
   "cell_type": "code",
   "execution_count": null,
   "metadata": {},
   "outputs": [],
   "source": [
    "# Create an lmplot that has a column for Ownership, a row for Degree_Type and hue based on the WOMENONLY column\n",
    "sns.lmplot(data=df,\n",
    "        x='SAT_AVG_ALL',\n",
    "        y='Tuition',\n",
    "        col=\"Ownership\",\n",
    "        row='Degree_Type',\n",
    "        row_order=['Graduate', 'Bachelors'],\n",
    "        hue='WOMENONLY',\n",
    "        col_order=inst_ord)\n",
    "\n",
    "plt.show()\n",
    "plt.clf()"
   ]
  },
  {
   "cell_type": "code",
   "execution_count": null,
   "metadata": {},
   "outputs": [],
   "source": [
    "# Create a PairGrid with a scatter plot for fatal_collisions and premiums\n",
    "g = sns.PairGrid(df, vars=[\"fatal_collisions\", \"premiums\"])\n",
    "g2 = g.map(plt.scatter)\n",
    "\n",
    "plt.show()\n",
    "plt.clf()"
   ]
  },
  {
   "cell_type": "code",
   "execution_count": null,
   "metadata": {},
   "outputs": [],
   "source": [
    "# Create the same PairGrid but map a histogram on the diag\n",
    "g = sns.PairGrid(df, vars=[\"fatal_collisions\", \"premiums\"])\n",
    "g2 = g.map_diag(plt.hist)\n",
    "g3 = g2.map_offdiag(plt.scatter)\n",
    "\n",
    "plt.show()\n",
    "plt.clf()"
   ]
  },
  {
   "cell_type": "code",
   "execution_count": null,
   "metadata": {},
   "outputs": [],
   "source": [
    "# Create a pairwise plot of the variables using a scatter plot\n",
    "sns.pairplot(data=df,\n",
    "        vars=[\"fatal_collisions\", \"premiums\"],\n",
    "        kind='scatter')\n",
    "\n",
    "plt.show()\n",
    "plt.clf()"
   ]
  },
  {
   "cell_type": "code",
   "execution_count": null,
   "metadata": {},
   "outputs": [],
   "source": [
    "# Plot the same data but use a different color palette and color code by Region\n",
    "sns.pairplot(data=df,\n",
    "        vars=[\"fatal_collisions\", \"premiums\"],\n",
    "        kind='scatter',\n",
    "        hue='Region',\n",
    "        palette='RdBu',\n",
    "        diag_kws={'alpha':.5})\n",
    "\n",
    "plt.show()\n",
    "plt.clf()"
   ]
  },
  {
   "cell_type": "code",
   "execution_count": null,
   "metadata": {},
   "outputs": [],
   "source": [
    "# Build a pairplot with different x and y variables\n",
    "sns.pairplot(data=df,\n",
    "        x_vars=[\"fatal_collisions_speeding\", \"fatal_collisions_alc\"],\n",
    "        y_vars=['premiums', 'insurance_losses'],\n",
    "        kind='scatter',\n",
    "        hue='Region',\n",
    "        palette='husl')\n",
    "\n",
    "plt.show()\n",
    "plt.clf()"
   ]
  },
  {
   "cell_type": "code",
   "execution_count": null,
   "metadata": {},
   "outputs": [],
   "source": [
    "# plot relationships between insurance_losses and premiums\n",
    "sns.pairplot(data=df,\n",
    "             vars=[\"insurance_losses\", \"premiums\"],\n",
    "             kind='reg',\n",
    "             palette='BrBG',\n",
    "             diag_kind = 'kde',\n",
    "             hue='Region')\n",
    "\n",
    "plt.show()\n",
    "plt.clf()"
   ]
  },
  {
   "cell_type": "code",
   "execution_count": null,
   "metadata": {},
   "outputs": [],
   "source": [
    "# Build a JointGrid comparing humidity and total_rentals\n",
    "sns.set_style(\"whitegrid\")\n",
    "g = sns.JointGrid(x=\"hum\",\n",
    "            y=\"total_rentals\",\n",
    "            data=df,\n",
    "            xlim=(0.1, 1.0)) \n",
    "\n",
    "g.plot(sns.regplot, sns.distplot)\n",
    "\n",
    "plt.show()\n",
    "plt.clf()"
   ]
  },
  {
   "cell_type": "code",
   "execution_count": null,
   "metadata": {},
   "outputs": [],
   "source": [
    "# Create a jointplot similar to the JointGrid \n",
    "sns.jointplot(x=\"hum\",\n",
    "        y=\"total_rentals\",\n",
    "        kind='reg',\n",
    "        data=df)\n",
    "\n",
    "plt.show()\n",
    "plt.clf()"
   ]
  },
  {
   "cell_type": "code",
   "execution_count": null,
   "metadata": {},
   "outputs": [],
   "source": [
    "# Plot temp vs. total_rentals as a regression plot\n",
    "sns.jointplot(x=\"temp\",\n",
    "              y=\"total_rentals\",\n",
    "              kind='reg',\n",
    "              data=df,\n",
    "              order=2,\n",
    "              xlim=(0, 1))\n",
    "\n",
    "plt.show()\n",
    "plt.clf()"
   ]
  },
  {
   "cell_type": "code",
   "execution_count": null,
   "metadata": {},
   "outputs": [],
   "source": [
    "# Plot a jointplot showing the residuals\n",
    "sns.jointplot(x=\"temp\",\n",
    "        y=\"total_rentals\",\n",
    "        kind='resid',\n",
    "        data=df,\n",
    "        order=2)\n",
    "\n",
    "plt.show()\n",
    "plt.clf()"
   ]
  },
  {
   "cell_type": "code",
   "execution_count": null,
   "metadata": {},
   "outputs": [],
   "source": [
    "# Create a jointplot of temp vs. casual riders\n",
    "# Include a kdeplot over the scatter plot\n",
    "g = (sns.jointplot(x=\"temp\",\n",
    "             y=\"casual\",\n",
    "             kind='scatter',\n",
    "             data=df,\n",
    "             marginal_kws=dict(bins=10, rug=True))\n",
    "    .plot_joint(sns.kdeplot))\n",
    "    \n",
    "plt.show()\n",
    "plt.clf()"
   ]
  },
  {
   "cell_type": "code",
   "execution_count": null,
   "metadata": {},
   "outputs": [],
   "source": [
    "# Replicate the above plot but only for registered riders\n",
    "g = (sns.jointplot(x=\"temp\",\n",
    "             y=\"registered\",\n",
    "             kind='scatter',\n",
    "             data=df,\n",
    "             marginal_kws=dict(bins=10, rug=True))\n",
    "    .plot_joint(sns.kdeplot))\n",
    "\n",
    "plt.show()\n",
    "plt.clf()"
   ]
  },
  {
   "cell_type": "code",
   "execution_count": null,
   "metadata": {},
   "outputs": [],
   "source": []
  }
 ],
 "metadata": {
  "kernelspec": {
   "display_name": "Python 3",
   "language": "python",
   "name": "python3"
  },
  "language_info": {
   "codemirror_mode": {
    "name": "ipython",
    "version": 3
   },
   "file_extension": ".py",
   "mimetype": "text/x-python",
   "name": "python",
   "nbconvert_exporter": "python",
   "pygments_lexer": "ipython3",
   "version": "3.7.7"
  }
 },
 "nbformat": 4,
 "nbformat_minor": 4
}
