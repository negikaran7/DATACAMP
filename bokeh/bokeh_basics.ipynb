{
 "cells": [
  {
   "cell_type": "code",
   "execution_count": 1,
   "metadata": {},
   "outputs": [],
   "source": [
    "from bokeh.plotting import figure\n",
    "from bokeh.io import show\n",
    "from bokeh.models import HoverTool\n",
    "from bokeh.io import output_file"
   ]
  },
  {
   "cell_type": "markdown",
   "metadata": {},
   "source": [
    "### **plot1**"
   ]
  },
  {
   "cell_type": "code",
   "execution_count": 2,
   "metadata": {},
   "outputs": [],
   "source": [
    "\n",
    "p1 = figure(plot_width = 400, plot_height = 400, \n",
    "           title = 'plot 1',\n",
    "           x_axis_label = 'X-label', y_axis_label = 'Y-label')\n",
    "#example_data\n",
    "squares_x = [1, 3, 4, 5, 8]\n",
    "squares_y = [8, 7, 3, 1, 10]\n",
    "circles_x = [9, 12, 4, 3, 15]\n",
    "circles_y = [8, 4, 11, 6, 10]\n",
    "# Add squares glyph\n",
    "p1.square(squares_x, squares_y, size = 12, color = 'navy', alpha = 0.6,legend='squares1')\n",
    "# Add circle glyph\n",
    "p1.circle(circles_x, circles_y, size = 12, color = 'red',legend='circles1')\n",
    "#Add legend\n",
    "p1.legend.location='top_left'"
   ]
  },
  {
   "cell_type": "markdown",
   "metadata": {},
   "source": [
    "### **plot2**"
   ]
  },
  {
   "cell_type": "code",
   "execution_count": 3,
   "metadata": {},
   "outputs": [],
   "source": [
    "p2 = figure(plot_width = 400, plot_height = 400, \n",
    "           title = 'Plot 2',\n",
    "           x_axis_label = 'X-label', y_axis_label = 'Y-label')\n",
    "\n",
    "# Example_data\n",
    "squares_x = [10, 3, 14, 25, 18]\n",
    "squares_y = [8, 7, 3, 1, 10]\n",
    "circles_x = [9, 4, 8, 7, 5]\n",
    "circles_y = [8, 4, 11, 16, 10]\n",
    "\n",
    "# Add squares glyph\n",
    "p2.square(squares_x, squares_y, size = 12, color = 'yellow', alpha = 0.6,legend='squares2')\n",
    "# Add circle glyph\n",
    "p2.circle(circles_x, circles_y, size = 12, color = 'blue',legend='circles2')\n",
    "#add legend\n",
    "p2.legend.location='bottom_right'"
   ]
  },
  {
   "cell_type": "markdown",
   "metadata": {},
   "source": [
    "### **plot3**"
   ]
  },
  {
   "cell_type": "code",
   "execution_count": 4,
   "metadata": {},
   "outputs": [],
   "source": [
    "p3 = figure(plot_width = 400, plot_height = 400, \n",
    "           title = 'Plot 3',\n",
    "           x_axis_label = 'X-label', y_axis_label = 'Y-label')\n",
    "\n",
    "# Example_data\n",
    "squares_x = [10, 3, 14, 25, 18]\n",
    "squares_y = [8, 7, 3, 1, 10]\n",
    "circles_x = [9, 4, 8, 7, 5]\n",
    "circles_y = [8, 4, 11, 16, 10]\n",
    "\n",
    "# Add squares glyph\n",
    "p3.square(squares_x, squares_y, size = 12, color = 'black', alpha = 0.6,legend='squares3')\n",
    "# Add circle glyph\n",
    "p3.circle(circles_x, circles_y, size = 12, color = 'orange',legend='circles3')\n",
    "#add legend\n",
    "p3.legend.location='bottom_left'"
   ]
  },
  {
   "cell_type": "markdown",
   "metadata": {},
   "source": [
    "#### **plot layouts**\n",
    "- horizontal layout using row\n",
    "- vertical laytout using column"
   ]
  },
  {
   "cell_type": "code",
   "execution_count": 5,
   "metadata": {},
   "outputs": [],
   "source": [
    "from bokeh.layouts import row, column\n",
    "layout1=row(p1,p2,p3)\n",
    "output_file('row_layout.html')\n",
    "layout2=column(p1,p2,p3)\n",
    "output_file('column_layout.html')\n",
    "layout3=row(column(p1,p2),p3)\n",
    "output_file('row_column_layout.html')\n",
    "show(layout1)\n",
    "show(layout2)\n",
    "show(layout3)"
   ]
  },
  {
   "cell_type": "markdown",
   "metadata": {},
   "source": [
    "#### **gridplot layout**"
   ]
  },
  {
   "cell_type": "code",
   "execution_count": 6,
   "metadata": {},
   "outputs": [],
   "source": [
    "from bokeh.layouts import gridplot\n",
    "layout4=gridplot([[None,p1],[p2,p3]],toolbar_location=None)\n",
    "output_file('gridlayout.html')\n",
    "show(layout4)"
   ]
  },
  {
   "cell_type": "markdown",
   "metadata": {},
   "source": [
    "#### **tabbed plot**"
   ]
  },
  {
   "cell_type": "code",
   "execution_count": 7,
   "metadata": {},
   "outputs": [],
   "source": [
    "from bokeh.models.widgets import Tabs, Panel\n",
    "first=Panel(child=row(p1,p2),title='first')\n",
    "second=Panel(child=row(p3),title='second')\n",
    "tabs=Tabs(tabs=[first,second])\n",
    "output_file('tabbed_layout.html')\n",
    "show(tabs)"
   ]
  },
  {
   "cell_type": "code",
   "execution_count": null,
   "metadata": {},
   "outputs": [],
   "source": []
  }
 ],
 "metadata": {
  "kernelspec": {
   "display_name": "Python 3",
   "language": "python",
   "name": "python3"
  },
  "language_info": {
   "codemirror_mode": {
    "name": "ipython",
    "version": 3
   },
   "file_extension": ".py",
   "mimetype": "text/x-python",
   "name": "python",
   "nbconvert_exporter": "python",
   "pygments_lexer": "ipython3",
   "version": "3.6.5"
  }
 },
 "nbformat": 4,
 "nbformat_minor": 2
}
