{
 "cells": [
  {
   "cell_type": "code",
   "execution_count": 7,
   "metadata": {},
   "outputs": [],
   "source": [
    "import sqlite3\n",
    "sqlite_file = '/home/optimus/Downloads/money_android.sqlite'\n",
    "conn = sqlite3.connect(sqlite_file)\n",
    "c = conn.cursor()\n",
    "import pandas as pd"
   ]
  },
  {
   "cell_type": "code",
   "execution_count": 12,
   "metadata": {},
   "outputs": [],
   "source": [
    "def to_csv():\n",
    "    c.execute(\"SELECT name FROM sqlite_master WHERE type='table';\")\n",
    "    tables = c.fetchall()\n",
    "    for table_name in tables:\n",
    "        table_name = table_name[0]\n",
    "        table = pd.read_sql_query(\"SELECT * from %s\" % table_name, db)\n",
    "        table.to_csv(table_name + '.csv', index_label='index')"
   ]
  },
  {
   "cell_type": "code",
   "execution_count": 13,
   "metadata": {},
   "outputs": [
    {
     "data": {
      "text/html": [
       "<div>\n",
       "<style scoped>\n",
       "    .dataframe tbody tr th:only-of-type {\n",
       "        vertical-align: middle;\n",
       "    }\n",
       "\n",
       "    .dataframe tbody tr th {\n",
       "        vertical-align: top;\n",
       "    }\n",
       "\n",
       "    .dataframe thead th {\n",
       "        text-align: right;\n",
       "    }\n",
       "</style>\n",
       "<table border=\"1\" class=\"dataframe\">\n",
       "  <thead>\n",
       "    <tr style=\"text-align: right;\">\n",
       "      <th></th>\n",
       "      <th>type</th>\n",
       "      <th>name</th>\n",
       "      <th>tbl_name</th>\n",
       "      <th>rootpage</th>\n",
       "      <th>sql</th>\n",
       "    </tr>\n",
       "  </thead>\n",
       "  <tbody>\n",
       "    <tr>\n",
       "      <th>0</th>\n",
       "      <td>table</td>\n",
       "      <td>android_metadata</td>\n",
       "      <td>android_metadata</td>\n",
       "      <td>3</td>\n",
       "      <td>CREATE TABLE android_metadata (locale TEXT)</td>\n",
       "    </tr>\n",
       "    <tr>\n",
       "      <th>1</th>\n",
       "      <td>table</td>\n",
       "      <td>sqlite_sequence</td>\n",
       "      <td>sqlite_sequence</td>\n",
       "      <td>4</td>\n",
       "      <td>CREATE TABLE sqlite_sequence(name,seq)</td>\n",
       "    </tr>\n",
       "    <tr>\n",
       "      <th>2</th>\n",
       "      <td>table</td>\n",
       "      <td>MESSAGEMACRO2</td>\n",
       "      <td>MESSAGEMACRO2</td>\n",
       "      <td>5</td>\n",
       "      <td>CREATE TABLE MESSAGEMACRO2 ( AID \\t\\t\\t       ...</td>\n",
       "    </tr>\n",
       "    <tr>\n",
       "      <th>3</th>\n",
       "      <td>index</td>\n",
       "      <td>MESSAGEMACRO2_IDX1</td>\n",
       "      <td>MESSAGEMACRO2</td>\n",
       "      <td>6</td>\n",
       "      <td>CREATE INDEX MESSAGEMACRO2_IDX1 ON MESSAGEMACR...</td>\n",
       "    </tr>\n",
       "    <tr>\n",
       "      <th>4</th>\n",
       "      <td>table</td>\n",
       "      <td>INOUTCOME</td>\n",
       "      <td>INOUTCOME</td>\n",
       "      <td>7</td>\n",
       "      <td>CREATE TABLE INOUTCOME (AID \\t\\t\\t      INTEGE...</td>\n",
       "    </tr>\n",
       "  </tbody>\n",
       "</table>\n",
       "</div>"
      ],
      "text/plain": [
       "    type                name          tbl_name  rootpage  \\\n",
       "0  table    android_metadata  android_metadata         3   \n",
       "1  table     sqlite_sequence   sqlite_sequence         4   \n",
       "2  table       MESSAGEMACRO2     MESSAGEMACRO2         5   \n",
       "3  index  MESSAGEMACRO2_IDX1     MESSAGEMACRO2         6   \n",
       "4  table           INOUTCOME         INOUTCOME         7   \n",
       "\n",
       "                                                 sql  \n",
       "0        CREATE TABLE android_metadata (locale TEXT)  \n",
       "1             CREATE TABLE sqlite_sequence(name,seq)  \n",
       "2  CREATE TABLE MESSAGEMACRO2 ( AID \\t\\t\\t       ...  \n",
       "3  CREATE INDEX MESSAGEMACRO2_IDX1 ON MESSAGEMACR...  \n",
       "4  CREATE TABLE INOUTCOME (AID \\t\\t\\t      INTEGE...  "
      ]
     },
     "execution_count": 13,
     "metadata": {},
     "output_type": "execute_result"
    }
   ],
   "source": [
    "table.head()"
   ]
  },
  {
   "cell_type": "code",
   "execution_count": null,
   "metadata": {},
   "outputs": [],
   "source": []
  }
 ],
 "metadata": {
  "kernelspec": {
   "display_name": "Python 3",
   "language": "python",
   "name": "python3"
  },
  "language_info": {
   "codemirror_mode": {
    "name": "ipython",
    "version": 3
   },
   "file_extension": ".py",
   "mimetype": "text/x-python",
   "name": "python",
   "nbconvert_exporter": "python",
   "pygments_lexer": "ipython3",
   "version": "3.6.5"
  }
 },
 "nbformat": 4,
 "nbformat_minor": 2
}
