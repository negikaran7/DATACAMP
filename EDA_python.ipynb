{
 "cells": [
  {
   "cell_type": "code",
   "execution_count": 5,
   "metadata": {},
   "outputs": [],
   "source": [
    "def resample_rows_weighted(df, column, seed):\n",
    "                           \"\"\"Resamples a DataFrame using probabilities proportional to given column.\\n\\n\n",
    "                           df: DataFrame\n",
    "                           column: string column name to use as weights\n",
    "                           returns: DataFrame    \"\"\"    \n",
    "                           np.random.seed(seed)\n",
    "                           weights = df[column] / sum(df[column])\n",
    "                           indices = np.random.choice(df.index, len(df), replace=True, p=weights)\n",
    "                           sample = df.loc[indices]    \n",
    "                           return sample"
   ]
  },
  {
   "cell_type": "code",
   "execution_count": null,
   "metadata": {},
   "outputs": [],
   "source": [
    "# Filter full-term babies\n",
    "full_term = nsfg['prglngth'] >= 37\n",
    "\n",
    "# Filter single births\n",
    "single = nsfg['nbrnaliv'] == 1\n",
    "\n",
    "# Compute birth weight for single full-term babies\n",
    "single_full_term_weight = birth_weight[single & full_term]\n",
    "print('Single full-term mean:', single_full_term_weight.mean())\n",
    "\n",
    "# Compute birth weight for multiple full-term babies\n",
    "mult_full_term_weight = birth_weight[~single & full_term]\n",
    "print('Multiple full-term mean:', mult_full_term_weight.mean())\n"
   ]
  },
  {
   "cell_type": "code",
   "execution_count": null,
   "metadata": {},
   "outputs": [],
   "source": [
    "'''multiple regression'''\n",
    "import statsmodels.formula.api as smf\n",
    "\n",
    "# Add a new column with educ squared\n",
    "gss['educ2'] = gss['educ']**2\n",
    "\n",
    "# Run a regression model with educ, educ2, age, and age2\n",
    "results = smf.ols('realinc ~ educ + educ2 + age + age2',data=gss).fit()\n",
    "\n",
    "# Print the estimated parameters\n",
    "print(results.params)"
   ]
  },
  {
   "cell_type": "code",
   "execution_count": null,
   "metadata": {},
   "outputs": [],
   "source": [
    "# Run a regression model with educ, educ2, age, and age2\n",
    "results = smf.ols('realinc ~ educ + educ2 + age + age2', data=gss).fit()\n",
    "\n",
    "# Make the DataFrame\n",
    "df = pd.DataFrame()\n",
    "df['educ'] = np.linspace(0,20)\n",
    "df['age'] = 30\n",
    "df['educ2'] = df['educ']**2\n",
    "df['age2'] = df['age']**2\n",
    "\n",
    "# Generate and plot the predictions\n",
    "pred = results.predict(df)\n",
    "print(pred.head())"
   ]
  },
  {
   "cell_type": "code",
   "execution_count": null,
   "metadata": {},
   "outputs": [],
   "source": [
    "# Plot mean income in each age group\n",
    "plt.clf()\n",
    "grouped = gss.groupby('educ')\n",
    "mean_income_by_educ = grouped['realinc'].mean()\n",
    "plt.plot(mean_income_by_educ,'o', alpha=0.5)\n",
    "\n",
    "# Plot the predictions\n",
    "pred = results.predict(df)\n",
    "plt.plot(df['educ'], pred, label='Age 30')\n",
    "\n",
    "# Label axes\n",
    "plt.xlabel('Education (years)')\n",
    "plt.ylabel('Income (1986 $)')\n",
    "plt.legend()\n",
    "plt.show()"
   ]
  },
  {
   "cell_type": "code",
   "execution_count": null,
   "metadata": {},
   "outputs": [],
   "source": [
    "# Recode grass\n",
    "gss['grass'].replace(2, 0, inplace=True)\n",
    "\n",
    "# Run logistic regression\n",
    "results = smf.logit('grass ~ age + age2 + educ + educ2 +C(sex)',data=gss).fit()\n",
    "results.params"
   ]
  },
  {
   "cell_type": "code",
   "execution_count": null,
   "metadata": {},
   "outputs": [],
   "source": [
    "# Recode grass\n",
    "gss['grass'].replace(2, 0, inplace=True)\n",
    "\n",
    "# Run logistic regression\n",
    "results = smf.logit('grass ~ age + age2 + educ + educ2 + C(sex)', data=gss).fit()\n",
    "results.params\n",
    "\n",
    "# Make a DataFrame with a range of ages\n",
    "df = pd.DataFrame()\n",
    "df['age'] = np.linspace(18, 89)\n",
    "df['age2'] = df['age']**2\n",
    "\n",
    "# Set the education level to 12\n",
    "df['educ'] = 12\n",
    "df['educ2'] = 12"
   ]
  },
  {
   "cell_type": "code",
   "execution_count": null,
   "metadata": {},
   "outputs": [],
   "source": [
    "# Recode grass\n",
    "gss['grass'].replace(2, 0, inplace=True)\n",
    "\n",
    "# Run logistic regression\n",
    "results = smf.logit('grass ~ age + age2 + educ + educ2 + C(sex)', data=gss).fit()\n",
    "results.params\n",
    "\n",
    "# Make a DataFrame with a range of ages\n",
    "df = pd.DataFrame()\n",
    "df['age'] = np.linspace(18, 89)\n",
    "df['age2'] = df['age']**2\n",
    "\n",
    "# Set the education level to 12\n",
    "df['educ'] = 12\n",
    "df['educ2'] = df['educ']**2\n",
    "\n",
    "# Generate predictions for men and women\n",
    "df['sex'] = 1\n",
    "pred1 = results.predict(df)\n",
    "\n",
    "df['sex'] = 2\n",
    "pred2 = results.predict(df)"
   ]
  },
  {
   "cell_type": "code",
   "execution_count": null,
   "metadata": {},
   "outputs": [],
   "source": [
    "# Recode grass\n",
    "gss['grass'].replace(2, 0, inplace=True)\n",
    "\n",
    "# Run logistic regression\n",
    "results = smf.logit('grass ~ age + age2 + educ + educ2 + C(sex)', data=gss).fit()\n",
    "results.params\n",
    "\n",
    "# Make a DataFrame with a range of ages\n",
    "df = pd.DataFrame()\n",
    "df['age'] = np.linspace(18, 89)\n",
    "df['age2'] = df['age']**2\n",
    "\n",
    "# Set the education level to 12\n",
    "df['educ'] = 12\n",
    "df['educ2'] = df['educ']**2\n",
    "\n",
    "# Generate predictions for men and women\n",
    "df['sex'] = 1\n",
    "pred1 = results.predict(df)\n",
    "\n",
    "df['sex'] = 2\n",
    "pred2 = results.predict(df)\n",
    "\n",
    "plt.clf()\n",
    "grouped = gss.groupby('age')\n",
    "favor_by_age = grouped['grass'].mean()\n",
    "plt.plot(favor_by_age, 'o', alpha=0.5)\n",
    "\n",
    "plt.plot(df['age'], pred1, label='Male')\n",
    "plt.plot(df['age'], pred2, label='Female')\n",
    "\n",
    "plt.xlabel('Age')\n",
    "plt.ylabel('Probability of favoring legalization')\n",
    "plt.legend()\n",
    "plt.show()"
   ]
  }
 ],
 "metadata": {
  "kernelspec": {
   "display_name": "Python 3",
   "language": "python",
   "name": "python3"
  },
  "language_info": {
   "codemirror_mode": {
    "name": "ipython",
    "version": 3
   },
   "file_extension": ".py",
   "mimetype": "text/x-python",
   "name": "python",
   "nbconvert_exporter": "python",
   "pygments_lexer": "ipython3",
   "version": "3.7.7"
  }
 },
 "nbformat": 4,
 "nbformat_minor": 4
}
